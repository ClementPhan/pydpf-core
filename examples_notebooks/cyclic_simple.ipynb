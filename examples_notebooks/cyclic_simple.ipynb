{
 "cells": [
  {
   "cell_type": "markdown",
   "metadata": {},
   "source": [
    "# Read result file \n",
    "    - meta data: available results, mesh, time/freq domain\n",
    "    - results: displacement and stress"
   ]
  },
  {
   "cell_type": "markdown",
   "metadata": {},
   "source": [
    "1st step : load dpf client/server, generate documentation if needed"
   ]
  },
  {
   "cell_type": "code",
   "execution_count": 1,
   "metadata": {},
   "outputs": [
    {
     "name": "stdout",
     "output_type": "stream",
     "text": [
      "server started at --address 10.28.1.60 --port 50052\n"
     ]
    }
   ],
   "source": [
    "from ansys import dpf\n",
    "dpf.start_local_server()\n",
    "#doc = dpf.Operator(\"html_doc\")\n",
    "#doc.inputs.output_path(r'c:/temp/doc.html')\n",
    "#doc.run()\n",
    "import os\n",
    "res_files = os.getcwd() + r'\\..\\..\\res_files'"
   ]
  },
  {
   "cell_type": "markdown",
   "metadata": {},
   "source": [
    "2nd step : create a model"
   ]
  },
  {
   "cell_type": "code",
   "execution_count": 10,
   "metadata": {},
   "outputs": [],
   "source": [
    "path = res_files + r'\\file.rst'\n",
    "model = dpf.Model(path)\n",
    "metadata = model.metadata\n",
    "results = model.results"
   ]
  },
  {
   "cell_type": "code",
   "execution_count": 3,
   "metadata": {},
   "outputs": [
    {
     "name": "stdout",
     "output_type": "stream",
     "text": [
      "Modal analysis\n",
      "Unit system: Metric (m, kg, N, s, V, A)\n",
      "Physics Type: Mecanic\n",
      "Available results:\n",
      "     -  displacement                  \n",
      "     -  element_nodal_forces          \n",
      "     -  stress                        \n",
      "     -  strain                        \n",
      "     -  temperature                   \n",
      "\n"
     ]
    }
   ],
   "source": [
    "print(metadata.result_info)"
   ]
  },
  {
   "cell_type": "code",
   "execution_count": 4,
   "metadata": {},
   "outputs": [
    {
     "name": "stdout",
     "output_type": "stream",
     "text": [
      "Meshed Region\n",
      "\t55531 nodes\n",
      "\t20821 elements\n",
      "\tUnit: m \n",
      "\n"
     ]
    }
   ],
   "source": [
    "print(metadata.meshed_region)"
   ]
  },
  {
   "cell_type": "code",
   "execution_count": 5,
   "metadata": {
    "collapsed": true,
    "jupyter": {
     "outputs_hidden": true
    }
   },
   "outputs": [
    {
     "name": "stdout",
     "output_type": "stream",
     "text": [
      "Time/Frequency Info:\n",
      "\tNumber of sets: 24\n",
      "\n",
      "With complex values\n",
      " \n",
      " Cumulative   Frequency (Hz)    Loadstep     Substep     Harmonic index  \n",
      "     1           5.71e+02          1            1              0         \n",
      "     2           8.53e+02          1            2              0         \n",
      "     3           1.97e+03          1            3              0         \n",
      "     4           2.04e+03          1            4              0         \n",
      "     5           2.47e+03          1            5              0         \n",
      "     6           3.06e+03          1            6              0         \n",
      "     7           5.8e+02           2            1              1         \n",
      "     8           5.8e+02           2            2              1         \n",
      "     9           9.52e+02          2            3              1         \n",
      "     10          9.52e+02          2            4              1         \n",
      "     11          1.78e+03          2            5              1         \n",
      "     12          1.78e+03          2            6              1         \n",
      "     13          5.86e+02          3            1              2         \n",
      "     14          5.86e+02          3            2              2         \n",
      "     15          1.06e+03          3            3              2         \n",
      "     16          1.06e+03          3            4              2         \n",
      "     17          1.83e+03          3            5              2         \n",
      "     18          1.83e+03          3            6              2         \n",
      "     19          5.92e+02          4            1              3         \n",
      "     20          5.92e+02          4            2              3         \n",
      "     21          1.22e+03          4            3              3         \n",
      "     22          1.22e+03          4            4              3         \n",
      "     23          2.02e+03          4            5              3         \n",
      "     24          2.02e+03          4            6              3         \n",
      "\n"
     ]
    }
   ],
   "source": [
    "print(metadata.time_freq_support)"
   ]
  },
  {
   "cell_type": "code",
   "execution_count": 6,
   "metadata": {},
   "outputs": [],
   "source": [
    "u = model.results.displacement()\n",
    "vtk = dpf.Operator(\"vtk_export\")"
   ]
  },
  {
   "cell_type": "code",
   "execution_count": 7,
   "metadata": {},
   "outputs": [],
   "source": [
    "u.inputs.time_scoping.connect([7])"
   ]
  },
  {
   "cell_type": "code",
   "execution_count": 8,
   "metadata": {},
   "outputs": [],
   "source": [
    "\n",
    "fields = u.outputs.fields_container()\n",
    "vtk.inputs.file_path(r\"C:\\temp\\tempsecBase.vtk\")\n",
    "vtk.inputs.mesh.connect(metadata.meshed_region)\n",
    "vtk.inputs.fields1.connect(fields)\n",
    "vtk.run()\n"
   ]
  },
  {
   "cell_type": "code",
   "execution_count": 12,
   "metadata": {},
   "outputs": [
    {
     "data": {
      "text/plain": [
       "{'time': 7, 'base_sector': 1}"
      ]
     },
     "execution_count": 12,
     "metadata": {},
     "output_type": "execute_result"
    }
   ],
   "source": [
    "len(fields)\n",
    "fields.labels\n",
    "fields.get_label_space(0)"
   ]
  },
  {
   "cell_type": "markdown",
   "metadata": {},
   "source": [
    "## expand displacements"
   ]
  },
  {
   "cell_type": "code",
   "execution_count": 9,
   "metadata": {},
   "outputs": [],
   "source": [
    "displacements = model.operator(\"mapdl::rst::U_cyclic\")"
   ]
  },
  {
   "cell_type": "code",
   "execution_count": 10,
   "metadata": {},
   "outputs": [],
   "source": [
    "fields = displacements.outputs.fields_container()"
   ]
  },
  {
   "cell_type": "code",
   "execution_count": 11,
   "metadata": {},
   "outputs": [],
   "source": [
    "disp_field = fields[0]"
   ]
  },
  {
   "cell_type": "code",
   "execution_count": 12,
   "metadata": {},
   "outputs": [],
   "source": [
    "mesh = displacements.outputs.expanded_meshed_region.get_data()"
   ]
  },
  {
   "cell_type": "code",
   "execution_count": 14,
   "metadata": {},
   "outputs": [
    {
     "name": "stdout",
     "output_type": "stream",
     "text": [
      "Meshed Region\n",
      "\t1945584 nodes\n",
      "\t749556 elements\n",
      "\tUnit:  \n",
      "\n"
     ]
    }
   ],
   "source": [
    "print(mesh)"
   ]
  },
  {
   "cell_type": "code",
   "execution_count": 15,
   "metadata": {},
   "outputs": [
    {
     "name": "stdout",
     "output_type": "stream",
     "text": [
      "DPF  Field\n",
      "\tLocation: Nodal\n",
      "\tUnit: m\n",
      "\t1945584 id(s)\n",
      "\tdata size: 5836752\n",
      "\tshape: (1945584, 3)\n",
      "\n"
     ]
    }
   ],
   "source": [
    "print(disp_field)"
   ]
  },
  {
   "cell_type": "markdown",
   "metadata": {},
   "source": [
    "## expand stresses"
   ]
  },
  {
   "cell_type": "code",
   "execution_count": 20,
   "metadata": {},
   "outputs": [],
   "source": [
    "stress = model.operator(\"mapdl::rst::S_cyclic\")"
   ]
  },
  {
   "cell_type": "code",
   "execution_count": 21,
   "metadata": {},
   "outputs": [],
   "source": [
    "stress.inputs.requested_location.connect(\"Nodal\")"
   ]
  },
  {
   "cell_type": "code",
   "execution_count": 22,
   "metadata": {},
   "outputs": [],
   "source": [
    "fields = stress.outputs.fields_container()"
   ]
  },
  {
   "cell_type": "markdown",
   "metadata": {},
   "source": [
    "## export to vtk"
   ]
  },
  {
   "cell_type": "code",
   "execution_count": 23,
   "metadata": {},
   "outputs": [],
   "source": [
    "vtk = dpf.Operator(\"vtk_export\")"
   ]
  },
  {
   "cell_type": "code",
   "execution_count": 24,
   "metadata": {},
   "outputs": [],
   "source": [
    "vtk.inputs.file_path(r'c:/temp/file.vtk')\n",
    "vtk.inputs.fields1.connect(displacements.outputs.fields_container)\n",
    "vtk.inputs.fields2.connect(stress.outputs.fields_container)\n",
    "vtk.run()"
   ]
  },
  {
   "cell_type": "code",
   "execution_count": null,
   "metadata": {},
   "outputs": [],
   "source": []
  }
 ],
 "metadata": {
  "kernelspec": {
   "display_name": "Python 3",
   "language": "python",
   "name": "python3"
  },
  "language_info": {
   "codemirror_mode": {
    "name": "ipython",
    "version": 3
   },
   "file_extension": ".py",
   "mimetype": "text/x-python",
   "name": "python",
   "nbconvert_exporter": "python",
   "pygments_lexer": "ipython3",
   "version": "3.7.6"
  },
  "widgets": {
   "application/vnd.jupyter.widget-state+json": {
    "state": {},
    "version_major": 2,
    "version_minor": 0
   }
  }
 },
 "nbformat": 4,
 "nbformat_minor": 4
}
