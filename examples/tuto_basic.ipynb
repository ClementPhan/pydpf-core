{
 "cells": [
  {
   "cell_type": "markdown",
   "metadata": {},
   "source": [
    "# The goal of this tutorial is use simple post processing on a rst file and export it in vtk for visualization"
   ]
  },
  {
   "cell_type": "markdown",
   "metadata": {},
   "source": [
    "To use it, add PYTHONPATH to the generated python code from Protocols/packages and ANSYS_PATH to your ansys install path\n",
    "\n",
    "1st step : load the necessary module of dpf for grpc, launch the server and create the doc"
   ]
  },
  {
   "cell_type": "code",
   "execution_count": 1,
   "metadata": {},
   "outputs": [],
   "source": [
    "from ansys import dpf\n",
    "from ansys.dpf.server import start_local_server"
   ]
  },
  {
   "cell_type": "code",
   "execution_count": 2,
   "metadata": {},
   "outputs": [
    {
     "name": "stdout",
     "output_type": "stream",
     "text": [
      "server started at --address 10.110.2.47 --port 50052\n"
     ]
    }
   ],
   "source": [
    "start_local_server()"
   ]
  },
  {
   "cell_type": "code",
   "execution_count": 3,
   "metadata": {},
   "outputs": [],
   "source": [
    "doc = dpf.Operator(\"html_doc\")\n",
    "doc.inputs.output_path(r'c:/temp/doc.html')\n",
    "doc.eval()"
   ]
  },
  {
   "cell_type": "markdown",
   "metadata": {},
   "source": [
    "2nd step : create a model with the path of the result file"
   ]
  },
  {
   "cell_type": "code",
   "execution_count": 4,
   "metadata": {},
   "outputs": [],
   "source": [
    "path = r'c:/temp/cp55.rst'\n",
    "model = dpf.Model(path)"
   ]
  },
  {
   "cell_type": "markdown",
   "metadata": {},
   "source": [
    "3rd step : get the time freq support"
   ]
  },
  {
   "cell_type": "code",
   "execution_count": 5,
   "metadata": {},
   "outputs": [
    {
     "name": "stdout",
     "output_type": "stream",
     "text": [
      "Time/Frequency Info:\n",
      "\tNumber of sets: 35\n",
      "\n",
      "With complex values\n",
      " \n",
      " Cumulative      Time (s)       Loadstep     Substep   \n",
      "     1             0.0             1            1      \n",
      "     2             0.02            1            2      \n",
      "     3             0.04            1            3      \n",
      "     4             0.06            1            4      \n",
      "     5             0.08            1            5      \n",
      "     6             0.1             1            6      \n",
      "     7             0.12            1            7      \n",
      "     8             0.14            1            8      \n",
      "     9             0.16            1            9      \n",
      "     10            0.18            1            10     \n",
      "     11            0.2             1            11     \n",
      "     12           0.219            1            12     \n",
      "     13           0.239            1            13     \n",
      "     14           0.259            1            14     \n",
      "     15           0.279            1            15     \n",
      "     16           0.299            1            16     \n",
      "     17           0.319            1            17     \n",
      "     18           0.339            1            18     \n",
      "     19           0.359            1            19     \n",
      "     20           0.379            1            20     \n",
      "     21           0.399            1            21     \n",
      "     22           0.418            1            22     \n",
      "     23           0.438            1            23     \n",
      "     24           0.458            1            24     \n",
      "     25           0.478            1            25     \n",
      "     26           0.498            1            26     \n",
      "     27           0.518            1            27     \n",
      "     28           0.538            1            28     \n",
      "     29           0.557            1            29     \n",
      "     30           0.577            1            30     \n",
      "     31           0.597            1            31     \n",
      "     32           0.617            1            32     \n",
      "     33           0.637            1            33     \n",
      "     34           0.657            1            34     \n",
      "     35           0.677            1            35     \n",
      "\n"
     ]
    }
   ],
   "source": [
    "print(model.time_freq_support)"
   ]
  },
  {
   "cell_type": "markdown",
   "metadata": {
    "scrolled": true
   },
   "source": [
    "4th step: get the mesh"
   ]
  },
  {
   "cell_type": "code",
   "execution_count": 6,
   "metadata": {
    "scrolled": false
   },
   "outputs": [
    {
     "name": "stdout",
     "output_type": "stream",
     "text": [
      "Meshed Region\n",
      "\t3820 nodes\n",
      "\t789 elements\n",
      "\tUnit: m \n",
      "\n"
     ]
    }
   ],
   "source": [
    "print(model.meshed_region)"
   ]
  },
  {
   "cell_type": "markdown",
   "metadata": {},
   "source": [
    "5th step: look for available results in the file"
   ]
  },
  {
   "cell_type": "code",
   "execution_count": 7,
   "metadata": {},
   "outputs": [
    {
     "name": "stdout",
     "output_type": "stream",
     "text": [
      "Static analysis\n",
      "Result types: 15 \n",
      "Unit system: 11\n",
      "Physics Type: Mecanic\n",
      "Available results:\n",
      "\tU\n",
      "\tRF\n",
      "\tENF\n",
      "\tS\n",
      "\tENG_VOL\n",
      "\tENG_SE\n",
      "\tENG_AHO\n",
      "\tENG_TH\n",
      "\tENG_KE\n",
      "\tENG_CO\n",
      "\tENG_INC\n",
      "\tEPEL\n",
      "\tETH_EQV\n",
      "\tETH_SWL\n",
      "\tBFE\n",
      "\n"
     ]
    }
   ],
   "source": [
    "print(model.result_info)"
   ]
  },
  {
   "cell_type": "markdown",
   "metadata": {},
   "source": [
    "## Using displacement"
   ]
  },
  {
   "cell_type": "markdown",
   "metadata": {},
   "source": [
    "4 th step : create the operator reader of displacement and set it's time scoping request as the entire time freq support\n",
    "connect it to a norm and to a min max and export the norm in vtk"
   ]
  },
  {
   "cell_type": "code",
   "execution_count": 8,
   "metadata": {},
   "outputs": [],
   "source": [
    "displacements = model.operator(\"U\")\n",
    "timeids = list(range(1,model.time_freq_support.n_sets+1))"
   ]
  },
  {
   "cell_type": "code",
   "execution_count": 9,
   "metadata": {},
   "outputs": [],
   "source": [
    "displacements.inputs.time_scoping(timeids)"
   ]
  },
  {
   "cell_type": "code",
   "execution_count": 10,
   "metadata": {},
   "outputs": [],
   "source": [
    "norm = dpf.Operator(\"norm_fc\")\n",
    "norm.inputs.fields_container.connect(displacements.outputs)"
   ]
  },
  {
   "cell_type": "code",
   "execution_count": 11,
   "metadata": {},
   "outputs": [],
   "source": [
    "min_max = dpf.Operator(\"min_max_fc\")\n",
    "min_max.inputs.fields_container.connect(norm.outputs)\n",
    "fmin = min_max.outputs.field_min()\n",
    "fmax = min_max.outputs.field_max()"
   ]
  },
  {
   "cell_type": "code",
   "execution_count": 12,
   "metadata": {},
   "outputs": [
    {
     "data": {
      "text/plain": [
       "[0.0,\n",
       " 0.0,\n",
       " 0.0,\n",
       " 0.0,\n",
       " 0.0,\n",
       " 0.0,\n",
       " 0.0,\n",
       " 0.0,\n",
       " 0.0,\n",
       " 0.0,\n",
       " 0.0,\n",
       " 0.0,\n",
       " 0.0,\n",
       " 0.0,\n",
       " 0.0,\n",
       " 0.0,\n",
       " 0.0,\n",
       " 0.0,\n",
       " 0.0,\n",
       " 0.0,\n",
       " 0.0,\n",
       " 0.0,\n",
       " 0.0,\n",
       " 0.0,\n",
       " 0.0,\n",
       " 0.0,\n",
       " 0.0,\n",
       " 0.0,\n",
       " 0.0,\n",
       " 0.0,\n",
       " 0.0,\n",
       " 0.0,\n",
       " 0.0,\n",
       " 0.0,\n",
       " 0.0]"
      ]
     },
     "execution_count": 12,
     "metadata": {},
     "output_type": "execute_result"
    }
   ],
   "source": [
    "fmin.data"
   ]
  },
  {
   "cell_type": "code",
   "execution_count": 13,
   "metadata": {},
   "outputs": [
    {
     "data": {
      "text/plain": [
       "[0.0,\n",
       " 0.0006267372903018056,\n",
       " 0.0025094009142665004,\n",
       " 0.005641846246302676,\n",
       " 0.009999923398266329,\n",
       " 0.015521540117110409,\n",
       " 0.022078712720450363,\n",
       " 0.029444587009846576,\n",
       " 0.03725894252314807,\n",
       " 0.0449972152013357,\n",
       " 0.05195353454479884,\n",
       " 0.05703911801494583,\n",
       " 0.05982844150784884,\n",
       " 0.0589761684373874,\n",
       " 0.05358419092854356,\n",
       " 0.04310435808459619,\n",
       " 0.027597819239314075,\n",
       " 0.007984309803602908,\n",
       " 0.01379509993808897,\n",
       " 0.03478255103903859,\n",
       " 0.05130461351335084,\n",
       " 0.05942391889982178,\n",
       " 0.05715204142158222,\n",
       " 0.04272116079422172,\n",
       " 0.01787116097063537,\n",
       " 0.012449936699550468,\n",
       " 0.04062977331496594,\n",
       " 0.05913065884847142,\n",
       " 0.060420564719179184,\n",
       " 0.04188290338330022,\n",
       " 0.012018786803938152,\n",
       " 0.0352653150526427,\n",
       " 0.05950851527080637,\n",
       " 0.06077103487616713,\n",
       " 0.037337691401448825]"
      ]
     },
     "execution_count": 13,
     "metadata": {},
     "output_type": "execute_result"
    }
   ],
   "source": [
    "fmax.data"
   ]
  },
  {
   "cell_type": "code",
   "execution_count": 14,
   "metadata": {
    "scrolled": true
   },
   "outputs": [],
   "source": [
    "vtk = dpf.Operator(\"vtk_export\")\n",
    "vtk.inputs.mesh(model.meshed_region)\n",
    "vtk.inputs.fields(norm.outputs)\n",
    "vtk.inputs.file_path(r'c:/temp/file.vtk')\n",
    "vtk.eval()"
   ]
  },
  {
   "cell_type": "code",
   "execution_count": null,
   "metadata": {},
   "outputs": [],
   "source": []
  },
  {
   "cell_type": "code",
   "execution_count": null,
   "metadata": {},
   "outputs": [],
   "source": []
  },
  {
   "cell_type": "code",
   "execution_count": null,
   "metadata": {},
   "outputs": [],
   "source": []
  }
 ],
 "metadata": {
  "kernelspec": {
   "display_name": "Python 3",
   "language": "python",
   "name": "python3"
  },
  "language_info": {
   "codemirror_mode": {
    "name": "ipython",
    "version": 3
   },
   "file_extension": ".py",
   "mimetype": "text/x-python",
   "name": "python",
   "nbconvert_exporter": "python",
   "pygments_lexer": "ipython3",
   "version": "3.7.4"
  },
  "widgets": {
   "application/vnd.jupyter.widget-state+json": {
    "state": {},
    "version_major": 2,
    "version_minor": 0
   }
  }
 },
 "nbformat": 4,
 "nbformat_minor": 2
}
