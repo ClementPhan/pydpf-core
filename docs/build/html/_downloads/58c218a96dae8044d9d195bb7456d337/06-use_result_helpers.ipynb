{
  "cells": [
    {
      "cell_type": "code",
      "execution_count": null,
      "metadata": {
        "collapsed": false
      },
      "outputs": [],
      "source": [
        "%matplotlib inline"
      ]
    },
    {
      "cell_type": "markdown",
      "metadata": {},
      "source": [
        "Use Result Helpers to Load Custom Data {#ref_use_result_helpers}\r\n======================================\r\n\r\nThe [Result]{.title-ref} class which instances are created by the\r\n[Model]{.title-ref} gives access to helpers to request results on\r\nspecific mesh and time scopings. With those helpers, working on a custom\r\nspatial and temporal subset of the model is straightforward.\r\n"
      ]
    },
    {
      "cell_type": "code",
      "execution_count": null,
      "metadata": {
        "collapsed": false
      },
      "outputs": [],
      "source": [
        "import numpy as np\n\nfrom ansys.dpf import core as dpf\nfrom ansys.dpf.core import examples\nfrom ansys.dpf.core import operators as ops"
      ]
    },
    {
      "cell_type": "markdown",
      "metadata": {},
      "source": [
        "First, create a model object to establish a connection with an example\r\nresult file\r\n"
      ]
    },
    {
      "cell_type": "code",
      "execution_count": null,
      "metadata": {
        "collapsed": false
      },
      "outputs": [],
      "source": [
        "model = dpf.Model(examples.download_multi_stage_cyclic_result())\nprint(model)"
      ]
    },
    {
      "cell_type": "markdown",
      "metadata": {},
      "source": [
        "Visualize specific mode shapes\r\n==============================\r\n\r\nChoose the modes to visualize\r\n"
      ]
    },
    {
      "cell_type": "code",
      "execution_count": null,
      "metadata": {
        "collapsed": false
      },
      "outputs": [],
      "source": [
        "modes = [1,5,6]\n\n\ndisp = model.results.displacement.on_time_scoping(modes)"
      ]
    },
    {
      "cell_type": "markdown",
      "metadata": {},
      "source": [
        "Choose a spatial subset\r\n=======================\r\n\r\nWork only a named selection (or component)\r\n"
      ]
    },
    {
      "cell_type": "markdown",
      "metadata": {},
      "source": [
        "Print the available named selection\r\n"
      ]
    },
    {
      "cell_type": "code",
      "execution_count": null,
      "metadata": {
        "collapsed": false
      },
      "outputs": [],
      "source": [
        "print(model.metadata.available_named_selections)"
      ]
    },
    {
      "cell_type": "markdown",
      "metadata": {},
      "source": [
        "Specify to the result that we work on a specific named selection\r\n"
      ]
    },
    {
      "cell_type": "code",
      "execution_count": null,
      "metadata": {
        "collapsed": false
      },
      "outputs": [],
      "source": [
        "disp.on_named_selection('_STAG1_BASE_NOD')\nop = disp()\nop.inputs.read_cyclic(2)#expand cyclic \nresults = op.outputs.fields_container()\n\n#plot\nfor mode in modes:\n    results[0].meshed_region.plot(results.get_fields_by_time_complex_ids(mode, 0)[0])"
      ]
    },
    {
      "cell_type": "markdown",
      "metadata": {},
      "source": [
        "Specify to the result that we work on specific nodes\r\n"
      ]
    },
    {
      "cell_type": "code",
      "execution_count": null,
      "metadata": {
        "collapsed": false
      },
      "outputs": [],
      "source": [
        "disp = model.results.displacement.on_time_scoping(modes)\ndisp.on_mesh_scoping(list(range(1, 200)))\nop = disp()\nop.inputs.read_cyclic(2)#expand cyclic \nresults = op.outputs.fields_container()\n\n#plot\nfor mode in modes:\n    results[0].meshed_region.plot(results.get_fields_by_time_complex_ids(mode, 0)[0])"
      ]
    }
  ],
  "metadata": {
    "kernelspec": {
      "display_name": "Python 3",
      "language": "python",
      "name": "python3"
    },
    "language_info": {
      "codemirror_mode": {
        "name": "ipython",
        "version": 3
      },
      "file_extension": ".py",
      "mimetype": "text/x-python",
      "name": "python",
      "nbconvert_exporter": "python",
      "pygments_lexer": "ipython3",
      "version": "3.8.5"
    }
  },
  "nbformat": 4,
  "nbformat_minor": 0
}