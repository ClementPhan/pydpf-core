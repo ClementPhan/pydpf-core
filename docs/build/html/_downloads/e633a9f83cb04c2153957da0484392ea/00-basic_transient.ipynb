{
  "cells": [
    {
      "cell_type": "code",
      "execution_count": null,
      "metadata": {
        "collapsed": false
      },
      "outputs": [],
      "source": [
        "%matplotlib inline"
      ]
    },
    {
      "cell_type": "markdown",
      "metadata": {},
      "source": [
        "\n\n# Transient Analysis Result Example\nThis example shows how to post-process a transient result and\nvisualize the outputs.\n"
      ]
    },
    {
      "cell_type": "code",
      "execution_count": null,
      "metadata": {
        "collapsed": false
      },
      "outputs": [],
      "source": [
        "import numpy as np\nimport matplotlib.pyplot as plt\n\nfrom ansys.dpf import core as dpf\nfrom ansys.dpf.core import examples\nfrom ansys.dpf.core import operators as ops"
      ]
    },
    {
      "cell_type": "markdown",
      "metadata": {},
      "source": [
        "Begin by downloading the example transient result.  This result is\nnot included in the core module by default to speed up the install.\nDownload should only take a few seconds.\n\nNext, create the model and display the state of the result.  Note\nthat this transient result file contains several individual results,\neach at a different timestamp.\n\n"
      ]
    },
    {
      "cell_type": "code",
      "execution_count": null,
      "metadata": {
        "collapsed": false
      },
      "outputs": [],
      "source": [
        "transient = examples.download_transient_result()\nmodel = dpf.Model(transient)\nprint(model)"
      ]
    },
    {
      "cell_type": "markdown",
      "metadata": {},
      "source": [
        "Get the timestamps for each substep as a numpy array\n\n"
      ]
    },
    {
      "cell_type": "code",
      "execution_count": null,
      "metadata": {
        "collapsed": false
      },
      "outputs": [],
      "source": [
        "tf = model.metadata.time_freq_support\nprint(tf.time_frequencies.data)"
      ]
    },
    {
      "cell_type": "markdown",
      "metadata": {},
      "source": [
        "# Obtain Minimum and Maximum Displacement for all Results\nCreate a displacement operator and set its time scoping request to\nthe entire time freq support.\n\n"
      ]
    },
    {
      "cell_type": "code",
      "execution_count": null,
      "metadata": {
        "collapsed": false
      },
      "outputs": [],
      "source": [
        "disp = model.results.displacement()\ntimeids = range(1, tf.n_sets + 1)  # must use 1-based indexing\ndisp.inputs.time_scoping(timeids)\n\n# Then chain the displacement operator with norm and min_max operators\nmin_max_op =ops.min_max.min_max_fc(ops.math.norm_fc(disp))\n\nmin_disp = min_max_op.outputs.field_min()\nmax_disp = min_max_op.outputs.field_max()\nprint(max_disp.data)"
      ]
    },
    {
      "cell_type": "markdown",
      "metadata": {},
      "source": [
        "Plot the minimum and maximum displacements over time\n\n"
      ]
    },
    {
      "cell_type": "code",
      "execution_count": null,
      "metadata": {
        "collapsed": false
      },
      "outputs": [],
      "source": [
        "tdata = tf.time_frequencies.data\nplt.plot(tdata, max_disp.data, 'r', label='Max')\nplt.plot(tdata, min_disp.data, 'b', label=\"Min\")\nplt.xlabel(\"Time (s)\")\nplt.ylabel(\"Displacement (m)\")\nplt.legend()\nplt.show()"
      ]
    },
    {
      "cell_type": "markdown",
      "metadata": {},
      "source": [
        "Plot the minimum and maximum displacements over time for the X\ncomponent.\n\n"
      ]
    },
    {
      "cell_type": "code",
      "execution_count": null,
      "metadata": {
        "collapsed": false
      },
      "outputs": [],
      "source": [
        "disp_z = disp.Z()\nmin_max_op = ops.min_max.min_max_fc(ops.math.norm_fc(disp_z))\n\nmin_disp_z = min_max_op.outputs.field_min()\nmax_disp_z = min_max_op.outputs.field_max()\n\ntdata = tf.time_frequencies.data\nplt.plot(tdata, max_disp_z.data, 'r', label='Max')\nplt.plot(tdata, min_disp_z.data, 'b', label=\"Min\")\nplt.xlabel(\"Time (s)\")\nplt.ylabel(\"X Displacement (m)\")\nplt.legend()\nplt.show()"
      ]
    },
    {
      "cell_type": "markdown",
      "metadata": {},
      "source": [
        "# Post-Processing Stress\nCreate a equivalent (von mises) stress operator and set its time\nscoping to the entire time freq support.\n\n"
      ]
    },
    {
      "cell_type": "code",
      "execution_count": null,
      "metadata": {
        "collapsed": false
      },
      "outputs": [],
      "source": [
        "# Component stress operator (stress)\nstress = model.results.stress()\n\n# Equivalent stress operator\neqv = stress.eqv()\neqv.inputs.time_scoping(timeids)\n\n# connect to the min_max operator and return the minimum and maximum\n# fields\nmin_max_eqv = ops.min_max.min_max_fc(eqv)\neqv_min = min_max_eqv.outputs.field_min()\neqv_max = min_max_eqv.outputs.field_max()\n\nprint(eqv_min)"
      ]
    },
    {
      "cell_type": "markdown",
      "metadata": {},
      "source": [
        "Plot the maximum stress over time\n\n"
      ]
    },
    {
      "cell_type": "code",
      "execution_count": null,
      "metadata": {
        "collapsed": false
      },
      "outputs": [],
      "source": [
        "plt.plot(tdata, eqv_min.data, 'b', label=\"Minimum\")\nplt.plot(tdata, eqv_max.data, 'r', label='Maximum')\nplt.xlabel(\"Time (s)\")\nplt.ylabel(\"Equivalent Stress (Pa)\")\nplt.legend()\nplt.show()"
      ]
    },
    {
      "cell_type": "markdown",
      "metadata": {},
      "source": [
        "# Scoping and Stress Field Coordinates\nThe scoping of the stress field can be used to extract the\ncoordinates used for each result.\n\n"
      ]
    },
    {
      "cell_type": "code",
      "execution_count": null,
      "metadata": {
        "collapsed": false
      },
      "outputs": [],
      "source": [
        "# extract a single field from the equivalent stress operator\nfield = eqv.outputs.fields_container()[28]\n\n# print the first node IDs from the field\nprint(field.scoping.ids[:10])"
      ]
    },
    {
      "cell_type": "markdown",
      "metadata": {},
      "source": [
        "As you can see, these node numbers are not in order.  Additionally,\nthere may be less entries in the field than nodes in the model.  For\nexample, stresses are not computed at mid-side nodes.\n\nTo extract the coordinates for these node ids, load the mesh from\nthe model and then extract a coordinate for each node index.\n\nThis is an inefficient way of getting the coordinates as each\nindividual request must be sent to the DPF service.\n\n"
      ]
    },
    {
      "cell_type": "code",
      "execution_count": null,
      "metadata": {
        "collapsed": false
      },
      "outputs": [],
      "source": [
        "# load the mesh from the model\nmeshed_region = model.metadata.meshed_region\n\n# print the first 10 coordinates for the field\nnode_ids = field.scoping.ids\nfor node_id in node_ids[:10]:\n    # fetch each individual node by node ID\n    node_coord = meshed_region.nodes.node_by_id(node_id).coordinates\n    print(f'Node ID {node_id} : %8.5f, %8.5f, %8.5f' % tuple(node_coord))"
      ]
    },
    {
      "cell_type": "markdown",
      "metadata": {},
      "source": [
        "Rather than individually querying for each node coordinate of the\nfield, you can instead remap the field data to match the order of\nthe nodes in the meshed region by using the ``map_scoping`` method.\n\nThis provides the indices needed to get the data from ``field.data``\nto match the order of nodes in the mesh.\n\n"
      ]
    },
    {
      "cell_type": "code",
      "execution_count": null,
      "metadata": {
        "collapsed": false
      },
      "outputs": [],
      "source": [
        "nodes = meshed_region.nodes\nind, mask = nodes.map_scoping(field.scoping)\n\n# show that the order of the remapped node scoping matches the field scoping\nprint('Scoping matches:', np.allclose(np.array(nodes.scoping.ids)[ind],\n                                      field.scoping.ids))\n\n# We can now plot the von mises stress relative to the Z coordinates\nz_coord = nodes.coordinates_field.data[ind, 2]\n\nplt.plot(z_coord, field.data, '.')\nplt.xlabel('Z Coordinate (m)')\nplt.ylabel('Equivalent Stress (Pa)')\nplt.show()"
      ]
    }
  ],
  "metadata": {
    "kernelspec": {
      "display_name": "Python 3",
      "language": "python",
      "name": "python3"
    },
    "language_info": {
      "codemirror_mode": {
        "name": "ipython",
        "version": 3
      },
      "file_extension": ".py",
      "mimetype": "text/x-python",
      "name": "python",
      "nbconvert_exporter": "python",
      "pygments_lexer": "ipython3",
      "version": "3.7.6"
    }
  },
  "nbformat": 4,
  "nbformat_minor": 0
}