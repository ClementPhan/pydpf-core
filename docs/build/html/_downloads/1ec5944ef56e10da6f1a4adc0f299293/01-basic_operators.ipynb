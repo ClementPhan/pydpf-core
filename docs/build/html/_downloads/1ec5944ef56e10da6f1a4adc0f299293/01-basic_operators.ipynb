{
  "cells": [
    {
      "cell_type": "code",
      "execution_count": null,
      "metadata": {
        "collapsed": false
      },
      "outputs": [],
      "source": [
        "%matplotlib inline"
      ]
    },
    {
      "cell_type": "markdown",
      "metadata": {},
      "source": [
        "\n\n# Operators Overview\nOverview of the usage of operators in DPF.\n\nOperators are primary method for interacting with and extracting\nresults.  Within DPF-Core, these operators are directly exposed with\nthe `Operators` class as well as wrapped within several other\nconvenience classes.\n\nThis example demonstrates how to work directly with operators and\ncompares it to wrapped approach.\n\nFor a full listing of all available operators, please see\n`ref_dpf_operators_reference`.\n"
      ]
    },
    {
      "cell_type": "code",
      "execution_count": null,
      "metadata": {
        "collapsed": false
      },
      "outputs": [],
      "source": [
        "from ansys.dpf import core as dpf\nfrom ansys.dpf.core import examples"
      ]
    },
    {
      "cell_type": "markdown",
      "metadata": {},
      "source": [
        "First, create a model object to establish a connection with an\nexample result file.\n\n"
      ]
    },
    {
      "cell_type": "code",
      "execution_count": null,
      "metadata": {
        "collapsed": false
      },
      "outputs": [],
      "source": [
        "model = dpf.Model(examples.static_rst)\nprint(model)"
      ]
    },
    {
      "cell_type": "markdown",
      "metadata": {},
      "source": [
        "Next, create a raw displacement operator ``\"U\"``.  Each operator\ncontains ``input`` and ``output`` pins that can be connected to\nvarious sources, to include other operators.  This allows operators\nto be \"chained\" to allow for highly efficient operations.\n\nHere, we print out the available inputs and outputs of the\ndisplacement operator.\n\n"
      ]
    },
    {
      "cell_type": "code",
      "execution_count": null,
      "metadata": {
        "collapsed": false
      },
      "outputs": [],
      "source": [
        "disp_op = dpf.Operator('U')\nprint(disp_op.inputs)\nprint(disp_op.outputs)"
      ]
    },
    {
      "cell_type": "markdown",
      "metadata": {},
      "source": [
        "# Compute the Maximum Normalized Displacement\nHere, connect the input of the operator to the data sources\ncontained within the ``model`` object and then the maximum of the\nnorm of the operator to demonstrate how to chain various operators.\n\n"
      ]
    },
    {
      "cell_type": "code",
      "execution_count": null,
      "metadata": {
        "collapsed": false
      },
      "outputs": [],
      "source": [
        "# connect to the data sources of the model\ndisp_op.inputs.data_sources.connect(model.metadata.data_sources)\n\n# Create a field container norm operator and connect it to the\n# displacement operator to chain the operators.\nnorm_op = dpf.Operator('norm_fc')\nnorm_op.inputs.connect(disp_op.outputs)\n\n# create a field container min/max operator and connect it to the\n# output of the norm operator\nmm_op = dpf.Operator('min_max_fc')\nmm_op.inputs.connect(norm_op.outputs)\n\n# Finally, get the value of the maximum displacement\nfield_max = mm_op.outputs.field_max()\nprint(field_max)\nprint(field_max.data)"
      ]
    },
    {
      "cell_type": "markdown",
      "metadata": {},
      "source": [
        "# Wrapped Operators\nThe ``model.results`` property contains all the wrapped operators\navailable for a given result.  This is provided out of convenience\nas not all operators may be available for a given result and it is\nmuch easier to reference available operators by first running:\n\n"
      ]
    },
    {
      "cell_type": "code",
      "execution_count": null,
      "metadata": {
        "collapsed": false
      },
      "outputs": [],
      "source": [
        "print(model.results)"
      ]
    },
    {
      "cell_type": "markdown",
      "metadata": {},
      "source": [
        "Create the displacement operator directly from the ``results`` property\n\n"
      ]
    },
    {
      "cell_type": "code",
      "execution_count": null,
      "metadata": {
        "collapsed": false
      },
      "outputs": [],
      "source": [
        "disp_op = model.results.displacement()\n\n# Out of convenience, the operators module contains availabale operators\n# Those operators can be created in chain to create a workflow in one line\nfrom ansys.dpf.core import operators\nmm_op = operators.min_max.min_max_fc(operators.math.norm_fc(disp_op))\n\n# Finally, get the value of the maximum displacement.\nfield_max = mm_op.outputs.field_max()\nprint(field_max)\nprint(field_max.data)"
      ]
    },
    {
      "cell_type": "markdown",
      "metadata": {},
      "source": [
        "Plot the displacement\n\n"
      ]
    },
    {
      "cell_type": "code",
      "execution_count": null,
      "metadata": {
        "collapsed": false
      },
      "outputs": [],
      "source": [
        "print(model.metadata.meshed_region.plot(disp_op.outputs.fields_container()))"
      ]
    },
    {
      "cell_type": "markdown",
      "metadata": {},
      "source": [
        "# Scripting operators syntax\nDPF is also providing a scripting syntax where knowing \nthe operator \"string name\" is not mandatory. \nHere is a similar script as above using this syntax. \n\n"
      ]
    },
    {
      "cell_type": "markdown",
      "metadata": {},
      "source": [
        "Instead of using a model class instance, let's directly use a \ndatasources object. The DataSources constructor input is a path. \n\n"
      ]
    },
    {
      "cell_type": "code",
      "execution_count": null,
      "metadata": {
        "collapsed": false
      },
      "outputs": [],
      "source": [
        "ds = dpf.DataSources(examples.static_rst)\nprint(examples.static_rst)"
      ]
    },
    {
      "cell_type": "markdown",
      "metadata": {},
      "source": [
        "Let's instantiate the operators and connect them together. \n\n"
      ]
    },
    {
      "cell_type": "code",
      "execution_count": null,
      "metadata": {
        "collapsed": false
      },
      "outputs": [],
      "source": [
        "disp_op = dpf.operators.result.displacement()\ndisp_op.inputs.data_sources.connect(ds)\nnorm_op = dpf.operators.math.norm_fc()\nnorm_op.inputs.connect(disp_op.outputs)\nmm_op = dpf.operators.min_max.min_max_fc()\nmm_op.inputs.connect(norm_op.outputs)"
      ]
    },
    {
      "cell_type": "markdown",
      "metadata": {},
      "source": [
        "Let's get the output and print the result data. \n\n"
      ]
    },
    {
      "cell_type": "code",
      "execution_count": null,
      "metadata": {
        "collapsed": false
      },
      "outputs": [],
      "source": [
        "field_max = mm_op.outputs.field_max()\nprint(field_max.data)"
      ]
    }
  ],
  "metadata": {
    "kernelspec": {
      "display_name": "Python 3",
      "language": "python",
      "name": "python3"
    },
    "language_info": {
      "codemirror_mode": {
        "name": "ipython",
        "version": 3
      },
      "file_extension": ".py",
      "mimetype": "text/x-python",
      "name": "python",
      "nbconvert_exporter": "python",
      "pygments_lexer": "ipython3",
      "version": "3.7.6"
    }
  },
  "nbformat": 4,
  "nbformat_minor": 0
}