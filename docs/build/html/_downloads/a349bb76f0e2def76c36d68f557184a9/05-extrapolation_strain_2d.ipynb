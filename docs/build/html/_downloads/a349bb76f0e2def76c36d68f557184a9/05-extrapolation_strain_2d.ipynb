{
  "cells": [
    {
      "cell_type": "code",
      "execution_count": null,
      "metadata": {
        "collapsed": false
      },
      "outputs": [],
      "source": [
        "%matplotlib inline"
      ]
    },
    {
      "cell_type": "markdown",
      "metadata": {},
      "source": [
        "# Extrapolation Method for strain result of 2D-element {#extrapolation_test_strain_2Delement}\r\n\r\nThis example shows how to compute the nodal components elastic strain\r\nfrom Gaussian points (integration points) for 2D-element by using the\r\nmethod of extrapolation. Extrapolating results available at Gauss or\r\nquadrature points to nodal points for a field or fields container. The\r\navailable elements are : linear quadrangle, parabolic quadrangle, linear\r\nhexagonal, quadratic hexagonal, linear tetrahedral, quadratic\r\ntetrahedral.\r\n\r\n1st step : get the data source\\'s analyse of integration points(this\r\nfile was add the commands APDL \\\"EREXS, NO\\\").\r\n\r\n2nd step: using operator of extrapolation to compute the nodal elastic\r\nstrain.\r\n\r\n3rd step: get nodal elastic strain result from data source\\'s analyse\r\nreference. The analyse was computed by ANSYS Mechanical APDL.\r\n\r\n4th step: compare the results between nodal elastic strain from data\r\nsource ref and nodal strain computed by Extrapolation Method.\r\n"
      ]
    },
    {
      "cell_type": "code",
      "execution_count": null,
      "metadata": {
        "collapsed": false
      },
      "outputs": [],
      "source": [
        "from ansys.dpf import core as dpf\nfrom ansys.dpf.core import examples\nfrom ansys.dpf.core import operators"
      ]
    },
    {
      "cell_type": "markdown",
      "metadata": {},
      "source": [
        "Get the data source\\'s analyse of integration points and data source\\'s\r\nanalyse reference\r\n"
      ]
    },
    {
      "cell_type": "code",
      "execution_count": null,
      "metadata": {
        "collapsed": false
      },
      "outputs": [],
      "source": [
        "datafile= examples.download_extrapolation_2d_result()\n\n# integration points (Gaussian points)\ndata_integration_points=datafile['file_integrated']\ndata_sources_integration_points = dpf.DataSources(data_integration_points)\n\n# reference\ndataSourceref=datafile['file_ref']\ndata_sources_ref = dpf.DataSources(dataSourceref)\n\n# get the mesh \nmodel = dpf.Model(data_integration_points)\nmesh = model.metadata.meshed_region"
      ]
    },
    {
      "cell_type": "markdown",
      "metadata": {},
      "source": [
        "# Extrapolation from integration points for elastic strain result\r\n\r\nIn this example we compute nodal component elastic strain results from\r\nintegration points\\'s elastic strain by using operator gauss_to_node_fc\r\n"
      ]
    },
    {
      "cell_type": "code",
      "execution_count": null,
      "metadata": {
        "collapsed": false
      },
      "outputs": [],
      "source": [
        "# Create elastic strain operator to get strain result of integration points\nstrainop=dpf.operators.result.elastic_strain()\nstrainop.inputs.data_sources.connect(data_sources_integration_points)\nstrain=strainop.outputs.fields_container()"
      ]
    },
    {
      "cell_type": "markdown",
      "metadata": {},
      "source": [
        "# Nodal elastic strain result of integration points:\r\n\r\n> The command \\\"ERESX,NO\\\" in Mechanical APDL is used to copy directly\r\n> the gaussian (integration) points results to the nodes, instead of the\r\n> results at nodes or elements (which are interpolation of results at a\r\n> few gauss points). The following plot shows the nodal values which are\r\n> the averaged values of elastic strain at each node. The value shown at\r\n> the node is the average of the elastic strains from the gaussian\r\n> points of each element that it belongs to.\r\n"
      ]
    },
    {
      "cell_type": "code",
      "execution_count": null,
      "metadata": {
        "collapsed": false
      },
      "outputs": [],
      "source": [
        "# plot\nstrain_nodal_op = dpf.operators.averaging.elemental_nodal_to_nodal_fc()\nstrain_nodal_op.inputs.fields_container.connect(strain)\nmesh.plot(strain_nodal_op.outputs.fields_container())"
      ]
    },
    {
      "cell_type": "markdown",
      "metadata": {},
      "source": [
        "Create operator gauss_to_node_fc and compute nodal component elastic\r\nstrain by applying Extrapolation Method\r\n"
      ]
    },
    {
      "cell_type": "code",
      "execution_count": null,
      "metadata": {
        "collapsed": false
      },
      "outputs": [],
      "source": [
        "ex_strain = dpf.operators.averaging.gauss_to_node_fc()\n# connect mesh\nex_strain.inputs.mesh.connect(mesh)\n# connect fields container elastic strain\nex_strain.inputs.fields_container.connect(strain)\n# get output\nfex=ex_strain.outputs.fields_container()"
      ]
    },
    {
      "cell_type": "markdown",
      "metadata": {},
      "source": [
        "# Elastic strain result of reference ANSYS Workbench\r\n"
      ]
    },
    {
      "cell_type": "code",
      "execution_count": null,
      "metadata": {
        "collapsed": false
      },
      "outputs": [],
      "source": [
        "# Strain from file dataSourceref\nstrainop_ref=dpf.operators.result.elastic_strain()\nstrainop_ref.inputs.data_sources.connect(data_sources_ref)\nstrain_ref=strainop_ref.outputs.fields_container()"
      ]
    },
    {
      "cell_type": "markdown",
      "metadata": {},
      "source": [
        "# Plot\r\n\r\nShowing plots of Extrapolation\\'s elastic strain result and reference\\'s\r\nelastic strain result\r\n"
      ]
    },
    {
      "cell_type": "code",
      "execution_count": null,
      "metadata": {
        "collapsed": false
      },
      "outputs": [],
      "source": [
        "# extrapolation\nfex_nodal_op = dpf.operators.averaging.elemental_nodal_to_nodal_fc()\nfex_nodal_op.inputs.fields_container.connect(fex)\nmesh.plot(fex_nodal_op.outputs.fields_container())\n# reference\nstrain_ref_nodal_op = dpf.operators.averaging.elemental_nodal_to_nodal_fc()\nstrain_ref_nodal_op.inputs.fields_container.connect(strain_ref)\nmesh.plot(strain_ref_nodal_op.outputs.fields_container())"
      ]
    },
    {
      "cell_type": "markdown",
      "metadata": {},
      "source": [
        "# Comparison\r\n\r\nCompare the elastic strain result computed by extrapolation and\r\nreference\\'s result. Check if two fields container are identical.\r\nMaximum tolerance gap between to compared values: 1e-3. Smallest value\r\nwhich will be considered during the comparison step : all the\r\nabs(values) in field less than 1e-14 is considered as null\r\n"
      ]
    },
    {
      "cell_type": "code",
      "execution_count": null,
      "metadata": {
        "collapsed": false
      },
      "outputs": [],
      "source": [
        "# operator AreFieldsIdentical_fc\nop = dpf.operators.logic.identical_fc()\nop.inputs.fields_containerA.connect(fex)\nop.inputs.fields_containerB.connect(strain_ref)\nop.inputs.tolerance.connect(1.0e-14)\nop.inputs.small_value.connect(0.001)\nop.outputs.boolean()"
      ]
    }
  ],
  "metadata": {
    "kernelspec": {
      "display_name": "Python 3",
      "language": "python",
      "name": "python3"
    },
    "language_info": {
      "codemirror_mode": {
        "name": "ipython",
        "version": 3
      },
      "file_extension": ".py",
      "mimetype": "text/x-python",
      "name": "python",
      "nbconvert_exporter": "python",
      "pygments_lexer": "ipython3",
      "version": "3.7.6"
    }
  },
  "nbformat": 4,
  "nbformat_minor": 0
}