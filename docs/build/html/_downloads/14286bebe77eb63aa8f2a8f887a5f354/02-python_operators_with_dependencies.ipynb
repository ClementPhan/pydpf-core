{
  "cells": [
    {
      "cell_type": "code",
      "execution_count": null,
      "metadata": {
        "collapsed": false
      },
      "outputs": [],
      "source": [
        "%matplotlib inline"
      ]
    },
    {
      "cell_type": "markdown",
      "metadata": {},
      "source": [
        "# Write user defined Operators having third party dependencies {#ref_python_operators_with_deps}\r\n\r\nThis example shows how advanced DPF python plugins of Operators can be\r\ncreated as standard python packages and how third party python modules\r\ndependencies can be added to the package. For a first introduction on\r\nuser defined python Operators see example\r\n`ref_wrapping_numpy_capabilities`{.interpreted-text role=\"ref\"} and for\r\na simpler example on user defined python Operators as a package see\r\n`ref_python_plugin_package`{.interpreted-text role=\"ref\"}.\r\n\r\nThis plugin will hold an Operator which implementation depends on a\r\nthird party python module named [gltf](https://pypi.org/project/gltf/).\r\nThis Operator takes a path, a mesh and 3D vector field in input and\r\nexports the mesh and the norm of the input field in a gltf file located\r\nat the given path.\r\n"
      ]
    },
    {
      "cell_type": "markdown",
      "metadata": {},
      "source": [
        "# Write Operator\r\n\r\nFor this more advanced use case, a python package is created. Each\r\nOperator implementation derives from\r\n`ansys.dpf.core.custom_operator.CustomOperatorBase`{.interpreted-text\r\nrole=\"class\"} and a call to\r\n:py`ansys.dpf.core.custom_operator.record_operator`{.interpreted-text\r\nrole=\"func\"} records the Operators of the plugin. The complete package\r\nlooks like:\r\n"
      ]
    },
    {
      "cell_type": "markdown",
      "metadata": {},
      "source": [
        "::: card\r\nplugin\r\n\r\n::: card\r\ngltf_plugin\r\n\r\n::: dropdown\r\n\\_\\_init\\_\\_.py\r\n\r\n::: literalinclude\r\nplugins/gltf_plugin/\\_\\_init\\_\\_.py\r\n:::\r\n:::\r\n\r\n::: dropdown\r\noperators.py\r\n\r\n::: literalinclude\r\nplugins/gltf_plugin/operators.py\r\n:::\r\n:::\r\n\r\n::: dropdown\r\noperators_loader.py\r\n\r\n::: literalinclude\r\nplugins/gltf_plugin/operators_loader.py\r\n:::\r\n:::\r\n\r\n::: dropdown\r\ngltf_export.py\r\n\r\n::: literalinclude\r\nplugins/gltf_plugin/gltf_export.py\r\n:::\r\n:::\r\n\r\n::: dropdown\r\ntexture.png\r\n\r\n::: literalinclude\r\nplugins/gltf_plugin/texture.png\r\n:::\r\n:::\r\n\r\n::: dropdown\r\nassets\r\n\r\n`<plugins/gltf_plugin/assets/gltf_sites_winx64.zip>`{.interpreted-text\r\nrole=\"download\"}\r\n\r\n`<plugins/gltf_plugin/assets/gltf_sites_linx64.zip>`{.interpreted-text\r\nrole=\"download\"}\r\n:::\r\n:::\r\n\r\n::: dropdown\r\ngltf_plugin.xml\r\n\r\n::: {.literalinclude language=\"xml\"}\r\nplugins/gltf_plugin.xml\r\n:::\r\n:::\r\n:::\r\n"
      ]
    },
    {
      "cell_type": "markdown",
      "metadata": {},
      "source": [
        "\r\n"
      ]
    },
    {
      "cell_type": "markdown",
      "metadata": {},
      "source": [
        "# Load Plugin\r\n\r\nOnce a python plugin is written as a package, it can be loaded with the\r\nfunction :py`ansys.dpf.core.core.load_library`{.interpreted-text\r\nrole=\"func\"} taking as first argument the path to the directory of the\r\nplugin, as second argument \\\"[py]()\\\" + any name identifying the plugin,\r\nand as last argument the function\\'s name exposed in the `__init__.py`\r\nfile and used to record operators.\r\n"
      ]
    },
    {
      "cell_type": "code",
      "execution_count": null,
      "metadata": {
        "collapsed": false
      },
      "outputs": [],
      "source": [
        "import os\nfrom ansys.dpf import core as dpf\nfrom ansys.dpf.core import examples\n\ndpf.start_local_server()\ndpf.load_library(\n    os.path.join(os.getcwd(), \"..\", \"..\", \"docs\", \"source\", \"examples\", \"07-python-operators\", \"plugins\", \"gltf_plugin\"),\n    \"py_dpf_gltf\",\n    \"load_operators\")"
      ]
    },
    {
      "cell_type": "markdown",
      "metadata": {},
      "source": [
        "Once the Plugin loaded, Operators recorded in the plugin can be used\r\nwith:\r\n"
      ]
    },
    {
      "cell_type": "code",
      "execution_count": null,
      "metadata": {
        "collapsed": false
      },
      "outputs": [],
      "source": [
        "new_operator = dpf.Operator(\"gltf_export\")"
      ]
    },
    {
      "cell_type": "markdown",
      "metadata": {},
      "source": [
        "This new Operator `gltf_export` requires a triangle surface mesh, a\r\ndisplacement Field on this surface mesh as well as an export path as\r\ninputs. To demo this new Operator, a\r\n`ansys.dpf.core.model.Model`{.interpreted-text role=\"class\"} on a simple\r\nfile is created,\r\n`ansys.dpf.core.operators.mesh.tri_mesh_skin`{.interpreted-text\r\nrole=\"class\"} Operator is used to extract the surface of the mesh in\r\ntriangles elements.\r\n"
      ]
    },
    {
      "cell_type": "markdown",
      "metadata": {},
      "source": [
        "# Use the Custom Operator\r\n"
      ]
    },
    {
      "cell_type": "code",
      "execution_count": null,
      "metadata": {
        "collapsed": false
      },
      "outputs": [],
      "source": [
        "import tempfile\nimport os\n\nmodel = dpf.Model(examples.static_rst)\n\nmesh = model.metadata.meshed_region\nskin_mesh = dpf.operators.mesh.tri_mesh_skin(mesh=mesh)\n\ndisplacement = model.results.displacement()\ndisplacement.inputs.mesh_scoping(skin_mesh)\ndisplacement.inputs.mesh(skin_mesh)\nnew_operator.inputs.path(os.path.join(tempfile.mkdtemp(), \"out\"))\nnew_operator.inputs.mesh(skin_mesh)\nnew_operator.inputs.field(displacement.outputs.fields_container()[0])\nnew_operator.run()\n\nprint(\"operator ran successfully\")"
      ]
    },
    {
      "cell_type": "markdown",
      "metadata": {},
      "source": [
        "The gltf Operator output can be downloaded\r\n`here<images/thumb/out02.glb>`{.interpreted-text role=\"download\"}.\r\n"
      ]
    }
  ],
  "metadata": {
    "kernelspec": {
      "display_name": "Python 3",
      "language": "python",
      "name": "python3"
    },
    "language_info": {
      "codemirror_mode": {
        "name": "ipython",
        "version": 3
      },
      "file_extension": ".py",
      "mimetype": "text/x-python",
      "name": "python",
      "nbconvert_exporter": "python",
      "pygments_lexer": "ipython3",
      "version": "3.8.5"
    }
  },
  "nbformat": 4,
  "nbformat_minor": 0
}