{
  "cells": [
    {
      "cell_type": "code",
      "execution_count": null,
      "metadata": {
        "collapsed": false
      },
      "outputs": [],
      "source": [
        "%matplotlib inline"
      ]
    },
    {
      "cell_type": "markdown",
      "metadata": {},
      "source": [
        "\n\n# Field and Field Containers Overview\nOverview of the usage of fields and field containers in DPF.\n\nThe field is the main simulation data container. In numerical\nsimulations, results data are defined by values associated to entities\n(scoping), and these entities are a subset of a model (support).\n\nIn DPF, field data is always associated to its scoping and support,\nmaking the field a self-describing piece of data. A field is also\ndefined by its dimensionnality, unit, location, etc.  A field can for\nexample, describe a displacement vector or norm, stresses and strains\ntensors, stresses and strains equivalent, or the minimum and maximum\nover time of any result.  It can be defined on a complete model or\njust on certain entities of the model based on its scoping. The data\nis stored as a vector of double values and each elementary entity has\na number of components.  For example, displacement will have 3\ncomponents, a symmetrical stress matrix will have 6.\n\nA fields container is simply a collection of fields that can be\nindexed just like a Python list.  Operators applied to a fields\ncontainer will have each individual field operated on.  Fields\ncontainers are output from operators.\n"
      ]
    },
    {
      "cell_type": "code",
      "execution_count": null,
      "metadata": {
        "collapsed": false
      },
      "outputs": [],
      "source": [
        "import numpy as np\n\nfrom ansys.dpf import core as dpf\nfrom ansys.dpf.core import examples\nfrom ansys.dpf.core import operators"
      ]
    },
    {
      "cell_type": "markdown",
      "metadata": {},
      "source": [
        "First, create a model object to establish a connection with an\nexample result file and then extract\n\n"
      ]
    },
    {
      "cell_type": "code",
      "execution_count": null,
      "metadata": {
        "collapsed": false
      },
      "outputs": [],
      "source": [
        "model = dpf.Model(examples.static_rst)\nprint(model)"
      ]
    },
    {
      "cell_type": "markdown",
      "metadata": {},
      "source": [
        "Create the displacement operator directly from the ``results``\nproperty and extract the displacement fields container.\n\n"
      ]
    },
    {
      "cell_type": "code",
      "execution_count": null,
      "metadata": {
        "collapsed": false
      },
      "outputs": [],
      "source": [
        "disp_op = model.results.displacement()\nfields = disp_op.outputs.fields_container()\nprint(fields)"
      ]
    },
    {
      "cell_type": "markdown",
      "metadata": {},
      "source": [
        "A field can be extracted from a fields container by simply indexing\nthe requested field\n\n"
      ]
    },
    {
      "cell_type": "code",
      "execution_count": null,
      "metadata": {
        "collapsed": false
      },
      "outputs": [],
      "source": [
        "field = fields[0]\nprint(field)"
      ]
    },
    {
      "cell_type": "markdown",
      "metadata": {},
      "source": [
        "# Extracting data from a field\nYou can extract all the data from a given field using the ``data``\nproperty.  This returns a ``numpy`` array.\n\n"
      ]
    },
    {
      "cell_type": "code",
      "execution_count": null,
      "metadata": {
        "collapsed": false
      },
      "outputs": [],
      "source": [
        "print(field.data)"
      ]
    },
    {
      "cell_type": "markdown",
      "metadata": {},
      "source": [
        "While it might seem preferable to work entirely within ``numpy``,\nrealize that DPF runs outside of Python and potentially even on a\nremote machine.  Therefore, the transfer of unnecessary data between\nthe DPF instance and the Python client will lead to inefficient\noperations on large models.  Instead, use DPF operators to assemble\nthe necessary data before recalling the data from DPF.\n\nFor example, if you want the maximum displacement for a given\nresult, use the min/max operator:\n\n\n"
      ]
    },
    {
      "cell_type": "code",
      "execution_count": null,
      "metadata": {
        "collapsed": false
      },
      "outputs": [],
      "source": [
        "min_max_op = dpf.operators.min_max.min_max(field)\nprint(min_max_op.outputs.field_max().data)\n\n# Out of conveience, you can simply take the max of the field with:\nprint(field.max().data)\n\n# Which all yield an identical result as:\nprint(np.max(field.data, axis=0))"
      ]
    },
    {
      "cell_type": "markdown",
      "metadata": {},
      "source": [
        "Note that the numpy array does not retain any information about the\nfield it describes.  Using the DPF max operator of the field does\nretain this information.\n\n"
      ]
    },
    {
      "cell_type": "code",
      "execution_count": null,
      "metadata": {
        "collapsed": false
      },
      "outputs": [],
      "source": [
        "max_field = field.max()\nprint(max_field)"
      ]
    },
    {
      "cell_type": "markdown",
      "metadata": {},
      "source": [
        "Including the Node IDs of the maximum displacements:\n\n"
      ]
    },
    {
      "cell_type": "code",
      "execution_count": null,
      "metadata": {
        "collapsed": false
      },
      "outputs": [],
      "source": [
        "print('Node IDs of maximum X, Y, and Z displacement:', max_field.scoping.ids)"
      ]
    }
  ],
  "metadata": {
    "kernelspec": {
      "display_name": "Python 3",
      "language": "python",
      "name": "python3"
    },
    "language_info": {
      "codemirror_mode": {
        "name": "ipython",
        "version": 3
      },
      "file_extension": ".py",
      "mimetype": "text/x-python",
      "name": "python",
      "nbconvert_exporter": "python",
      "pygments_lexer": "ipython3",
      "version": "3.7.6"
    }
  },
  "nbformat": 4,
  "nbformat_minor": 0
}