{
  "cells": [
    {
      "cell_type": "code",
      "execution_count": null,
      "metadata": {
        "collapsed": false
      },
      "outputs": [],
      "source": [
        "%matplotlib inline"
      ]
    },
    {
      "cell_type": "markdown",
      "metadata": {},
      "source": [
        "# Field and Field Containers Overview {#ref_basic_field_example}\r\n\r\nOverview of the usage of fields and field containers in DPF.\r\n\r\nThe field is the main simulation data container. In numerical\r\nsimulations, results data are defined by values associated to entities\r\n(scoping), and these entities are a subset of a model (support).\r\n\r\nIn DPF, field data is always associated to its scoping and support,\r\nmaking the field a self-describing piece of data. A field is also\r\ndefined by its dimensionnality, unit, location, etc. A field can for\r\nexample, describe a displacement vector or norm, stresses and strains\r\ntensors, stresses and strains equivalent, or the minimum and maximum\r\nover time of any result. It can be defined on a complete model or just\r\non certain entities of the model based on its scoping. The data is\r\nstored as a vector of double values and each elementary entity has a\r\nnumber of components. For example, displacement will have 3 components,\r\na symmetrical stress matrix will have 6.\r\n\r\nA fields container is simply a collection of fields that can be indexed\r\njust like a Python list. Operators applied to a fields container will\r\nhave each individual field operated on. Fields containers are output\r\nfrom operators.\r\n"
      ]
    },
    {
      "cell_type": "code",
      "execution_count": null,
      "metadata": {
        "collapsed": false
      },
      "outputs": [],
      "source": [
        "import numpy as np\n\nfrom ansys.dpf import core as dpf\nfrom ansys.dpf.core import examples\nfrom ansys.dpf.core import operators"
      ]
    },
    {
      "cell_type": "markdown",
      "metadata": {},
      "source": [
        "First, create a model object to establish a connection with an example\r\nresult file and then extract\r\n"
      ]
    },
    {
      "cell_type": "code",
      "execution_count": null,
      "metadata": {
        "collapsed": false
      },
      "outputs": [],
      "source": [
        "model = dpf.Model(examples.static_rst)\nprint(model)"
      ]
    },
    {
      "cell_type": "markdown",
      "metadata": {},
      "source": [
        "Create the displacement operator directly from the `results` property\r\nand extract the displacement fields container.\r\n"
      ]
    },
    {
      "cell_type": "code",
      "execution_count": null,
      "metadata": {
        "collapsed": false
      },
      "outputs": [],
      "source": [
        "disp_op = model.results.displacement()\nfields = disp_op.outputs.fields_container()\nprint(fields)"
      ]
    },
    {
      "cell_type": "markdown",
      "metadata": {},
      "source": [
        "A field can be extracted from a fields container by simply indexing the\r\nrequested field\r\n"
      ]
    },
    {
      "cell_type": "code",
      "execution_count": null,
      "metadata": {
        "collapsed": false
      },
      "outputs": [],
      "source": [
        "field = fields[0]\nprint(field)"
      ]
    },
    {
      "cell_type": "markdown",
      "metadata": {},
      "source": [
        "# Extracting data from a field\r\n\r\nYou can extract all the data from a given field using the `data`\r\nproperty. This returns a `numpy` array.\r\n"
      ]
    },
    {
      "cell_type": "code",
      "execution_count": null,
      "metadata": {
        "collapsed": false
      },
      "outputs": [],
      "source": [
        "print(field.data)"
      ]
    },
    {
      "cell_type": "markdown",
      "metadata": {},
      "source": [
        "While it might seem preferable to work entirely within `numpy`, realize\r\nthat DPF runs outside of Python and potentially even on a remote\r\nmachine. Therefore, the transfer of unnecessary data between the DPF\r\ninstance and the Python client will lead to inefficient operations on\r\nlarge models. Instead, use DPF operators to assemble the necessary data\r\nbefore recalling the data from DPF.\r\n\r\nFor example, if you want the maximum displacement for a given result,\r\nuse the min/max operator:\r\n"
      ]
    },
    {
      "cell_type": "code",
      "execution_count": null,
      "metadata": {
        "collapsed": false
      },
      "outputs": [],
      "source": [
        "min_max_op = dpf.operators.min_max.min_max(field)\nprint(min_max_op.outputs.field_max().data)\n\n# Out of conveience, you can simply take the max of the field with:\nprint(field.max().data)\n\n# Which all yield an identical result as:\nprint(np.max(field.data, axis=0))"
      ]
    },
    {
      "cell_type": "markdown",
      "metadata": {},
      "source": [
        "Note that the numpy array does not retain any information about the\r\nfield it describes. Using the DPF max operator of the field does retain\r\nthis information.\r\n"
      ]
    },
    {
      "cell_type": "code",
      "execution_count": null,
      "metadata": {
        "collapsed": false
      },
      "outputs": [],
      "source": [
        "max_field = field.max()\nprint(max_field)"
      ]
    }
  ],
  "metadata": {
    "kernelspec": {
      "display_name": "Python 3",
      "language": "python",
      "name": "python3"
    },
    "language_info": {
      "codemirror_mode": {
        "name": "ipython",
        "version": 3
      },
      "file_extension": ".py",
      "mimetype": "text/x-python",
      "name": "python",
      "nbconvert_exporter": "python",
      "pygments_lexer": "ipython3",
      "version": "3.7.6"
    }
  },
  "nbformat": 4,
  "nbformat_minor": 0
}