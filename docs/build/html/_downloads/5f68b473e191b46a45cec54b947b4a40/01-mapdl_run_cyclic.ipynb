{
  "cells": [
    {
      "cell_type": "code",
      "execution_count": null,
      "metadata": {
        "collapsed": false
      },
      "outputs": [],
      "source": [
        "%matplotlib inline"
      ]
    },
    {
      "cell_type": "markdown",
      "metadata": {},
      "source": [
        "\n\n# Use Mapdl run and get cyclic results\nThis example shows how to make an Mapdl solve and \nhow to get the cyclic expanded results. \n"
      ]
    },
    {
      "cell_type": "markdown",
      "metadata": {},
      "source": [
        "Import dpf module \n\n"
      ]
    },
    {
      "cell_type": "code",
      "execution_count": null,
      "metadata": {
        "collapsed": false
      },
      "outputs": [],
      "source": [
        "from ansys.dpf import core as dpf\nfrom ansys.dpf.core import examples\nfrom ansys.dpf.core import operators as ops\nfrom ansys.dpf.core.help import norm, min_max\nimport matplotlib.pyplot as plt\n\nimport os"
      ]
    },
    {
      "cell_type": "markdown",
      "metadata": {},
      "source": [
        "## Run Mapdl\nCall mapdl::run operator \n\n"
      ]
    },
    {
      "cell_type": "code",
      "execution_count": null,
      "metadata": {
        "collapsed": false
      },
      "outputs": [],
      "source": [
        "mapld_run = dpf.Operator(\"mapdl::run\")"
      ]
    },
    {
      "cell_type": "markdown",
      "metadata": {},
      "source": [
        "Get dataSources and connect it to the mapdl::run operator\n\n"
      ]
    },
    {
      "cell_type": "code",
      "execution_count": null,
      "metadata": {
        "collapsed": false
      },
      "outputs": [],
      "source": [
        "data_sources = dpf.DataSources(examples.cyclic_dat)\nmapld_run.inputs.data_sources.connect(data_sources)"
      ]
    },
    {
      "cell_type": "markdown",
      "metadata": {},
      "source": [
        "get the executable path and connect it to the operator\n\n"
      ]
    },
    {
      "cell_type": "code",
      "execution_count": null,
      "metadata": {
        "collapsed": false
      },
      "outputs": [],
      "source": [
        "ansys_path = dpf.misc.find_ansys()\nif os.name == 'nt':\n    executable = os.path.join(\"winx64\", \"ansys2021R2.exe\")\nelif os.name == 'posix':\n    executable = os.path.join(\"linx64\", \"ansys2021r2\")\nexecutable_path = os.path.join(ansys_path, \"ansys\", \"bin\", executable)\nmapld_run.inputs.mapdl_exe_path(executable_path)"
      ]
    },
    {
      "cell_type": "markdown",
      "metadata": {},
      "source": [
        "Run the operator to get the result file path as output\n\n"
      ]
    },
    {
      "cell_type": "code",
      "execution_count": null,
      "metadata": {
        "collapsed": false
      },
      "outputs": [],
      "source": [
        "rst_data_sources = mapld_run.outputs.data_sources()"
      ]
    },
    {
      "cell_type": "markdown",
      "metadata": {},
      "source": [
        "## Read results\nCreate a model from result data sources\n\n"
      ]
    },
    {
      "cell_type": "code",
      "execution_count": null,
      "metadata": {
        "collapsed": false
      },
      "outputs": [],
      "source": [
        "model = dpf.Model(rst_data_sources)"
      ]
    },
    {
      "cell_type": "markdown",
      "metadata": {},
      "source": [
        "Elemental nodal stress\n\n"
      ]
    },
    {
      "cell_type": "code",
      "execution_count": null,
      "metadata": {
        "collapsed": false
      },
      "outputs": [],
      "source": [
        "s = model.operator(\"mapdl::rst::S_cyclic\")\nfcS = s.outputs.fields_container()\n\nmin_max_op = ops.min_max.min_max()\nmin_max_op.inputs.field.connect(fcS[0])\n\nmin = min_max_op.outputs.field_min()\nmax =  min_max_op.outputs.field_max()\n\nprint(min.data)\nprint(max.data)"
      ]
    },
    {
      "cell_type": "markdown",
      "metadata": {},
      "source": [
        "Displacement\n\n"
      ]
    },
    {
      "cell_type": "code",
      "execution_count": null,
      "metadata": {
        "collapsed": false
      },
      "outputs": [],
      "source": [
        "u = model.operator(\"mapdl::rst::U_cyclic\")\n\ntimeIds = list(range(1, model.metadata.time_freq_support.n_sets+1))\ntimeIds\n\nu.inputs.time_scoping(timeIds)\nfcU = u.outputs.fields_container()\n\nmin_max_over_time = min_max(norm(u))\n\nmax_disp = min_max_over_time.outputs.field_max()\n\nprint(max_disp.data)\n\nmesh_provider = model.metadata.mesh_provider\nmesh_provider.inputs.read_cyclic(2)\nmesh = mesh_provider.outputs.mesh()\n\nmesh.plot(fcU[20])"
      ]
    }
  ],
  "metadata": {
    "kernelspec": {
      "display_name": "Python 3",
      "language": "python",
      "name": "python3"
    },
    "language_info": {
      "codemirror_mode": {
        "name": "ipython",
        "version": 3
      },
      "file_extension": ".py",
      "mimetype": "text/x-python",
      "name": "python",
      "nbconvert_exporter": "python",
      "pygments_lexer": "ipython3",
      "version": "3.7.6"
    }
  },
  "nbformat": 4,
  "nbformat_minor": 0
}