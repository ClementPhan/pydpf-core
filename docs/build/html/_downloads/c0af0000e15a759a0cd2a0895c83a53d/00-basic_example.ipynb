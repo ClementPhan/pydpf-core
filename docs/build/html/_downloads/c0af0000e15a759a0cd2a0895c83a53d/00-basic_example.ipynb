{
  "cells": [
    {
      "cell_type": "code",
      "execution_count": null,
      "metadata": {
        "collapsed": false
      },
      "outputs": [],
      "source": [
        "%matplotlib inline"
      ]
    },
    {
      "cell_type": "markdown",
      "metadata": {},
      "source": [
        "Basic DPF-Core Usage {#ref_basic_example}\r\n====================\r\n\r\nThis example shows how to open an example result file and do some basic\r\npost-processing.\r\n\r\nIf you have ANSYS 2021R1 installed, getting running DPF is quite easy as\r\n[ansys.dpf.core]{.title-ref} takes care of launching all the services\r\nrequired to start post-processing ANSYS files.\r\n\r\nFirst, import the DPF-Core module as [dpf_core]{.title-ref} and also\r\nimport the included examples file.\r\n"
      ]
    },
    {
      "cell_type": "code",
      "execution_count": null,
      "metadata": {
        "collapsed": false
      },
      "outputs": [],
      "source": [
        "from ansys.dpf import core as dpf\nfrom ansys.dpf.core import examples"
      ]
    },
    {
      "cell_type": "markdown",
      "metadata": {},
      "source": [
        "Next, open an example and then print out the `model` object. The `Model`\r\nclass helps to organize access methods for the result by keeping track\r\nof the operators and data sources used by the result file.\r\n\r\nPrinting the model displays: - Analysis type - Available results - Size\r\nof the mesh - Number of results\r\n\r\nAlso, note that the first time you create a DPF object, Python will\r\nautomatically attempt to start the server in the background. If you wish\r\nto connect to an existing server (either local or remote), use\r\n`dpf.connect_to_server()`\r\n"
      ]
    },
    {
      "cell_type": "code",
      "execution_count": null,
      "metadata": {
        "collapsed": false
      },
      "outputs": [],
      "source": [
        "model = dpf.Model(examples.simple_bar)\nprint(model)"
      ]
    },
    {
      "cell_type": "markdown",
      "metadata": {},
      "source": [
        "Model Metadata\r\n==============\r\n\r\nSpecific metadata can be extracted from the model by referencing the\r\n`metadata` property of the model. For example, just the result_info can\r\nbe printed with:\r\n"
      ]
    },
    {
      "cell_type": "code",
      "execution_count": null,
      "metadata": {
        "collapsed": false
      },
      "outputs": [],
      "source": [
        "metadata = model.metadata\nprint(metadata.result_info)"
      ]
    },
    {
      "cell_type": "markdown",
      "metadata": {},
      "source": [
        "The mesh region can be printed with\r\n"
      ]
    },
    {
      "cell_type": "code",
      "execution_count": null,
      "metadata": {
        "collapsed": false
      },
      "outputs": [],
      "source": [
        "print(metadata.meshed_region)"
      ]
    },
    {
      "cell_type": "markdown",
      "metadata": {},
      "source": [
        "and the time or frequency of the results can be printed with:\r\n"
      ]
    },
    {
      "cell_type": "code",
      "execution_count": null,
      "metadata": {
        "collapsed": false
      },
      "outputs": [],
      "source": [
        "print(metadata.time_freq_support)"
      ]
    },
    {
      "cell_type": "markdown",
      "metadata": {},
      "source": [
        "Extracting Displacement Results\r\n===============================\r\n\r\nAll results of the model can be accessed through the `results` property,\r\nwhich returns the `Results` class. This class contains the DPF result\r\noperators available to a specific result file, which are listed when\r\nprinting the object with `print(results)`\r\n\r\nHere, we connect the `'U'` operator with the data_sources, which takes\r\nplace automatically when running `results.displacement()`. By default,\r\nthis is connected to the first result set, which for this static result\r\nis the only result.\r\n"
      ]
    },
    {
      "cell_type": "code",
      "execution_count": null,
      "metadata": {
        "collapsed": false
      },
      "outputs": [],
      "source": [
        "results = model.results\ndisplacements = results.displacement()\nfields = displacements.outputs.fields_container()\n\n# finally, extract the data of the displacement field\ndisp = fields[0].data\ndisp"
      ]
    },
    {
      "cell_type": "code",
      "execution_count": null,
      "metadata": {
        "collapsed": false
      },
      "outputs": [],
      "source": [
        "model.metadata.meshed_region.plot(fields)"
      ]
    }
  ],
  "metadata": {
    "kernelspec": {
      "display_name": "Python 3",
      "language": "python",
      "name": "python3"
    },
    "language_info": {
      "codemirror_mode": {
        "name": "ipython",
        "version": 3
      },
      "file_extension": ".py",
      "mimetype": "text/x-python",
      "name": "python",
      "nbconvert_exporter": "python",
      "pygments_lexer": "ipython3",
      "version": "3.8.5"
    }
  },
  "nbformat": 4,
  "nbformat_minor": 0
}