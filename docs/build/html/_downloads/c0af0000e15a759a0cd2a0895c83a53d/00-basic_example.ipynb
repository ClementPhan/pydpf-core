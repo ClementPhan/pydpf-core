{
  "cells": [
    {
      "cell_type": "code",
      "execution_count": null,
      "metadata": {
        "collapsed": false
      },
      "outputs": [],
      "source": [
        "%matplotlib inline"
      ]
    },
    {
      "cell_type": "markdown",
      "metadata": {},
      "source": [
        "\n\n# Basic DPF-Core Usage\nThis example shows how to open an example result file and do some\nbasic post-processing.\n\nIf you have ANSYS 2021R1 installed, getting running DPF is quite easy\nas `ansys.dpf.core` takes care of launching all the services required\nto start post-processing ANSYS files.\n\nFirst, import the DPF-Core module as `dpf_core` and also import the\nincluded examples file.\n"
      ]
    },
    {
      "cell_type": "code",
      "execution_count": null,
      "metadata": {
        "collapsed": false
      },
      "outputs": [],
      "source": [
        "from ansys.dpf import core as dpf\nfrom ansys.dpf.core import examples"
      ]
    },
    {
      "cell_type": "markdown",
      "metadata": {},
      "source": [
        "Next, open an example and then print out the ``model`` object.  The\n``Model`` class helps to organize access methods for the result by\nkeeping track of the operators and data sources used by the result\nfile.\n\nPrinting the model displays:\n- Analysis type\n- Available results\n- Size of the mesh\n- Number of results\n\nAlso, note that the first time you create a DPF object, Python will\nautomatically attempt to start the server in the background.  If you\nwish to connect to an existing server (either local or remote), use\n``dpf.connect_to_server()``\n\n"
      ]
    },
    {
      "cell_type": "code",
      "execution_count": null,
      "metadata": {
        "collapsed": false
      },
      "outputs": [],
      "source": [
        "model = dpf.Model(examples.simple_bar)\nprint(model)"
      ]
    },
    {
      "cell_type": "markdown",
      "metadata": {},
      "source": [
        "# Model Metadata\nSpecific metadata can be extracted from the model by referencing the\n``metadata`` property of the model.  For example, just the\nresult_info can be printed with:\n\n"
      ]
    },
    {
      "cell_type": "code",
      "execution_count": null,
      "metadata": {
        "collapsed": false
      },
      "outputs": [],
      "source": [
        "metadata = model.metadata\nprint(metadata.result_info)"
      ]
    },
    {
      "cell_type": "markdown",
      "metadata": {},
      "source": [
        "The mesh region can be printed with\n\n"
      ]
    },
    {
      "cell_type": "code",
      "execution_count": null,
      "metadata": {
        "collapsed": false
      },
      "outputs": [],
      "source": [
        "print(metadata.meshed_region)"
      ]
    },
    {
      "cell_type": "markdown",
      "metadata": {},
      "source": [
        "and the time or frequency of the results can be printed with:\n\n"
      ]
    },
    {
      "cell_type": "code",
      "execution_count": null,
      "metadata": {
        "collapsed": false
      },
      "outputs": [],
      "source": [
        "print(metadata.time_freq_support)"
      ]
    },
    {
      "cell_type": "markdown",
      "metadata": {},
      "source": [
        "# Extracting Displacement Results\nAll results of the model can be accessed through the ``results``\nproperty, which returns the ``Results`` class.  This class contains\nthe DPF result operators available to a specific result file, which\nare listed when printing the object with ``print(results)``\n\nHere, we connect the ``'U'`` operator with the data_sources, which\ntakes place automatically when running ``results.displacement()``.\nBy default, this is connected to the first result set, which for this static result is the only result.\n\n"
      ]
    },
    {
      "cell_type": "code",
      "execution_count": null,
      "metadata": {
        "collapsed": false
      },
      "outputs": [],
      "source": [
        "results = model.results\ndisplacements = results.displacement()\nfields = displacements.outputs.fields_container()\n\n# finally, extract the data of the displacement field\ndisp = fields[0].data\ndisp"
      ]
    },
    {
      "cell_type": "code",
      "execution_count": null,
      "metadata": {
        "collapsed": false
      },
      "outputs": [],
      "source": [
        "model.metadata.meshed_region.plot(fields)"
      ]
    }
  ],
  "metadata": {
    "kernelspec": {
      "display_name": "Python 3",
      "language": "python",
      "name": "python3"
    },
    "language_info": {
      "codemirror_mode": {
        "name": "ipython",
        "version": 3
      },
      "file_extension": ".py",
      "mimetype": "text/x-python",
      "name": "python",
      "nbconvert_exporter": "python",
      "pygments_lexer": "ipython3",
      "version": "3.7.6"
    }
  },
  "nbformat": 4,
  "nbformat_minor": 0
}