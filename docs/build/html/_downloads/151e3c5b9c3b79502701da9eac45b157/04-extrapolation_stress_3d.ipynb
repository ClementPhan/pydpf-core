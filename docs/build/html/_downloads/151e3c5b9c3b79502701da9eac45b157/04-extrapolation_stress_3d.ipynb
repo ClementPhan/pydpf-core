{
  "cells": [
    {
      "cell_type": "code",
      "execution_count": null,
      "metadata": {
        "collapsed": false
      },
      "outputs": [],
      "source": [
        "%matplotlib inline"
      ]
    },
    {
      "cell_type": "markdown",
      "metadata": {},
      "source": [
        "# Extrapolation Method for stress result of 3D-element {#extrapolation_test_stress_3Delement}\r\n\r\nThis example shows how to compute the nodal components stress from\r\nGaussian points (integration points) for 3D-element by using the method\r\nof extrapolation. Extrapolating results available at Gauss or quadrature\r\npoints to nodal points for a field or fields container. The available\r\nelements are : linear quadrangle, parabolic quadrangle, linear\r\nhexagonal, quadratic hexagonal, linear tetrahedral, quadratic\r\ntetrahedral.\r\n\r\n1st step : get the data source\\'s analyse of integration points(this\r\nfile was add the commands APDL \\\"EREXS, NO\\\").\r\n\r\n2nd step: using operator of extrapolation to compute the nodal stress.\r\n\r\n3rd step: get nodal stress result from data source\\'s analyse reference.\r\nThe analyse was computed by ANSYS Mechanical APDL.\r\n\r\n4th step: compare the results between nodal stress from data source ref\r\nand nodal stress computed by Extrapolation Method.\r\n"
      ]
    },
    {
      "cell_type": "code",
      "execution_count": null,
      "metadata": {
        "collapsed": false
      },
      "outputs": [],
      "source": [
        "from ansys.dpf import core as dpf\nfrom ansys.dpf.core import examples\nfrom ansys.dpf.core import operators"
      ]
    },
    {
      "cell_type": "markdown",
      "metadata": {},
      "source": [
        "Get the data source\\'s analyse of integration points and data source\\'s\r\nanalyse reference\r\n"
      ]
    },
    {
      "cell_type": "code",
      "execution_count": null,
      "metadata": {
        "collapsed": false
      },
      "outputs": [],
      "source": [
        "datafile= examples.download_extrapolation_3d_result()\n\n# integration points (Gaussian points)\ndata_integration_points=datafile['file_integrated']\ndata_sources_integration_points = dpf.DataSources(data_integration_points)\n\n# reference\ndataSourceref=datafile['file_ref']\ndata_sources_ref = dpf.DataSources(dataSourceref)\n\n# get the mesh \nmodel = dpf.Model(data_integration_points)\nmesh = model.metadata.meshed_region\n\n# operator instantiation scoping\nop_scoping = dpf.operators.scoping.split_on_property_type() # operator instantiation\nop_scoping.inputs.mesh.connect(mesh)\nop_scoping.inputs.requested_location.connect(\"Elemental\")\nmesh_scoping = op_scoping.outputs.mesh_scoping()"
      ]
    },
    {
      "cell_type": "markdown",
      "metadata": {},
      "source": [
        "# Extrapolation from integration points for stress result\r\n\r\nIn this example we compute nodal component stress result from\r\nintegration points\\'s stress by using operator gauss_to_node_fc\r\n"
      ]
    },
    {
      "cell_type": "code",
      "execution_count": null,
      "metadata": {
        "collapsed": false
      },
      "outputs": [],
      "source": [
        "# Create stress operator to get stress result of integration points\nstressop=dpf.operators.result.stress()\nstressop.inputs.data_sources.connect(data_sources_integration_points)\nstress=stressop.outputs.fields_container()"
      ]
    },
    {
      "cell_type": "markdown",
      "metadata": {},
      "source": [
        "# Nodal stress result of integration points:\r\n\r\n> The command \\\"ERESX,NO\\\" in Mechanical APDL is used to copy directly\r\n> the gaussian (integration) points results to the nodes, instead of the\r\n> results at nodes or elements (which are interpolation of results at a\r\n> few gauss points). The following plot shows the nodal values which are\r\n> the averaged values of stresses at each node. The value shown at the\r\n> node is the average of the stresses from the gaussian points of each\r\n> element that it belongs to.\r\n"
      ]
    },
    {
      "cell_type": "code",
      "execution_count": null,
      "metadata": {
        "collapsed": false
      },
      "outputs": [],
      "source": [
        "# plot\nstress_nodal_op = dpf.operators.averaging.elemental_nodal_to_nodal_fc()\nstress_nodal_op.inputs.fields_container.connect(stress)\nmesh.plot(stress_nodal_op.outputs.fields_container())"
      ]
    },
    {
      "cell_type": "markdown",
      "metadata": {},
      "source": [
        "Create operator gauss_to_node_fc and compute nodal component stress by\r\napplying Extrapolation Method\r\n"
      ]
    },
    {
      "cell_type": "code",
      "execution_count": null,
      "metadata": {
        "collapsed": false
      },
      "outputs": [],
      "source": [
        "ex_stress = dpf.operators.averaging.gauss_to_node_fc()\n# connect mesh\nex_stress.inputs.mesh.connect(mesh)\n# connect fields container stress\nex_stress.inputs.fields_container.connect(stress)\n# get output\nfex=ex_stress.outputs.fields_container()"
      ]
    },
    {
      "cell_type": "markdown",
      "metadata": {},
      "source": [
        "# Stress result of reference ANSYS Workbench\r\n"
      ]
    },
    {
      "cell_type": "code",
      "execution_count": null,
      "metadata": {
        "collapsed": false
      },
      "outputs": [],
      "source": [
        "# Stress from file dataSourceref\nstressop_ref=dpf.operators.result.stress()\nstressop_ref.inputs.data_sources.connect(data_sources_ref)\nstressop_ref.inputs.mesh_scoping.connect(mesh_scoping)\nstress_ref=stressop_ref.outputs.fields_container()"
      ]
    },
    {
      "cell_type": "markdown",
      "metadata": {},
      "source": [
        "# Plot\r\n\r\n> Showing plots of Extrapolation\\'s stress result and reference\\'s\r\n> stress result\r\n"
      ]
    },
    {
      "cell_type": "code",
      "execution_count": null,
      "metadata": {
        "collapsed": false
      },
      "outputs": [],
      "source": [
        "# extrapolation\nfex_nodal_op = dpf.operators.averaging.elemental_nodal_to_nodal_fc()\nfex_nodal_op.inputs.fields_container.connect(fex)\nmesh.plot(fex_nodal_op.outputs.fields_container())\n# reference\nstress_ref_nodal_op = dpf.operators.averaging.elemental_nodal_to_nodal_fc()\nstress_ref_nodal_op.inputs.fields_container.connect(stress_ref)\nmesh.plot(stress_ref_nodal_op.outputs.fields_container())"
      ]
    },
    {
      "cell_type": "markdown",
      "metadata": {},
      "source": [
        "# Comparison\r\n\r\n> Compare the stress result computed by extrapolation and reference\\'s\r\n> result. Check if two fields container are identical. Maximum tolerance\r\n> gap between to compared values: 1e-2. Smallest value which will be\r\n> considered during the comparison step : all the abs(values) in field\r\n> less than 1e-8 is considered as null\r\n"
      ]
    },
    {
      "cell_type": "code",
      "execution_count": null,
      "metadata": {
        "collapsed": false
      },
      "outputs": [],
      "source": [
        "# operator AreFieldsIdentical_fc\nop = dpf.operators.logic.identical_fc()\nop.inputs.fields_containerA.connect(fex)\nop.inputs.fields_containerB.connect(stress_ref)\nop.inputs.tolerance.connect(1.0e-8)\nop.inputs.small_value.connect(0.01)\nop.outputs.boolean()"
      ]
    }
  ],
  "metadata": {
    "kernelspec": {
      "display_name": "Python 3",
      "language": "python",
      "name": "python3"
    },
    "language_info": {
      "codemirror_mode": {
        "name": "ipython",
        "version": 3
      },
      "file_extension": ".py",
      "mimetype": "text/x-python",
      "name": "python",
      "nbconvert_exporter": "python",
      "pygments_lexer": "ipython3",
      "version": "3.7.6"
    }
  },
  "nbformat": 4,
  "nbformat_minor": 0
}