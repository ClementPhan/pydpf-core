{
  "cells": [
    {
      "cell_type": "code",
      "execution_count": null,
      "metadata": {
        "collapsed": false
      },
      "outputs": [],
      "source": [
        "%matplotlib inline"
      ]
    },
    {
      "cell_type": "markdown",
      "metadata": {},
      "source": [
        "# Write/load and upload/download a result file {#ref_basic_load_file_example}\r\n\r\nansys.dpf.core module is able to upload files to the server machine, and\r\ndownload files from there.\r\n\r\nThis example shows how to write and upload files on the server machine,\r\nthen how to download it back on the cient side.\r\n\r\nThe result fields container will be exported under .csv format.\r\n"
      ]
    },
    {
      "cell_type": "markdown",
      "metadata": {},
      "source": [
        "Let\\'s first load a `Model` from the `Examples` provided by\r\n`ansys.dpf.core` module.\r\n"
      ]
    },
    {
      "cell_type": "code",
      "execution_count": null,
      "metadata": {
        "collapsed": false
      },
      "outputs": [],
      "source": [
        "from ansys.dpf import core\nfrom ansys.dpf.core import examples\n\nmodel = core.Model(examples.simple_bar)\nmesh = model.metadata.meshed_region"
      ]
    },
    {
      "cell_type": "markdown",
      "metadata": {},
      "source": [
        "# Get the result\r\n\r\nGet the result fields container and plot (in order to compare later)\r\n"
      ]
    },
    {
      "cell_type": "code",
      "execution_count": null,
      "metadata": {
        "collapsed": false
      },
      "outputs": [],
      "source": [
        "displacement_operator = model.results.displacement()\nfc_out = displacement_operator.outputs.fields_container()\nmesh.plot(fc_out)"
      ]
    },
    {
      "cell_type": "markdown",
      "metadata": {},
      "source": [
        "# Export result\r\n\r\nLet\\'s get the result fields container and export it using .csv format.\r\n"
      ]
    },
    {
      "cell_type": "code",
      "execution_count": null,
      "metadata": {
        "collapsed": false
      },
      "outputs": [],
      "source": [
        "import os\nfile_path = os.getcwd() + '\\\\simple_bar_fc.csv'\n\nexport_csv_operator = core.operators.serialization.field_to_csv()\nexport_csv_operator.inputs.field_or_fields_container.connect(fc_out)\nexport_csv_operator.inputs.file_path.connect(file_path)\nexport_csv_operator.run()"
      ]
    },
    {
      "cell_type": "markdown",
      "metadata": {},
      "source": [
        "# Upload .csv result file\r\n\r\nLet\\'s upload the simple_bar_fc.csv file on the server side. The\r\nupload_file_in_tmp_folder() method will be used here, because we assume\r\nwe don\\'t know the server machine architecture. However, the\r\nupload_file() method can be used the same way will a know \\\"server file\r\npath\\\".\r\n"
      ]
    },
    {
      "cell_type": "code",
      "execution_count": null,
      "metadata": {
        "collapsed": false
      },
      "outputs": [],
      "source": [
        "server_file_path = core.upload_file_in_tmp_folder(file_path)\nprint(server_file_path)\n\n# remove file to avoid polluting\nos.remove(file_path)"
      ]
    },
    {
      "cell_type": "markdown",
      "metadata": {},
      "source": [
        "# Download .csv result file\r\n\r\nLet\\'s now download the simple_bar_fc.csv file.\r\n"
      ]
    },
    {
      "cell_type": "code",
      "execution_count": null,
      "metadata": {
        "collapsed": false
      },
      "outputs": [],
      "source": [
        "downloaded_client_file_path = os.getcwd() + '\\\\simple_bar_fc_downloaded.csv'\ncore.download_file(server_file_path, downloaded_client_file_path)"
      ]
    },
    {
      "cell_type": "markdown",
      "metadata": {},
      "source": [
        "# Load .csv result file as operators input\r\n\r\nLet\\'s now load the fields container contained in the .csv file.\r\n"
      ]
    },
    {
      "cell_type": "code",
      "execution_count": null,
      "metadata": {
        "collapsed": false
      },
      "outputs": [],
      "source": [
        "my_data_sources = core.DataSources(downloaded_client_file_path)\nimport_csv_operator = core.operators.serialization.csv_to_field()\nimport_csv_operator.inputs.data_sources.connect(my_data_sources)\ndownloaded_fc_out = import_csv_operator.outputs.fields_container()\nmesh.plot(downloaded_fc_out)\n\n# remove file to avoid polluting\nos.remove(downloaded_client_file_path)"
      ]
    },
    {
      "cell_type": "markdown",
      "metadata": {},
      "source": [
        "# Make operations over the imported fields container\r\n\r\nThis fields container can be used as it was introduced in the basics\r\nexamples.\r\n"
      ]
    },
    {
      "cell_type": "code",
      "execution_count": null,
      "metadata": {
        "collapsed": false
      },
      "outputs": [],
      "source": [
        "min_max_op = core.operators.min_max.min_max_fc()\nmin_max_op.inputs.fields_container.connect(downloaded_fc_out)\nmin_field = min_max_op.outputs.field_min()\nmin_field.data"
      ]
    }
  ],
  "metadata": {
    "kernelspec": {
      "display_name": "Python 3",
      "language": "python",
      "name": "python3"
    },
    "language_info": {
      "codemirror_mode": {
        "name": "ipython",
        "version": 3
      },
      "file_extension": ".py",
      "mimetype": "text/x-python",
      "name": "python",
      "nbconvert_exporter": "python",
      "pygments_lexer": "ipython3",
      "version": "3.7.6"
    }
  },
  "nbformat": 4,
  "nbformat_minor": 0
}