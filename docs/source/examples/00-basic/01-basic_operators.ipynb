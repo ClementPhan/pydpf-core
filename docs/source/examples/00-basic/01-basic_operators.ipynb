{
  "cells": [
    {
      "cell_type": "code",
      "execution_count": null,
      "metadata": {
        "collapsed": false
      },
      "outputs": [],
      "source": [
        "%matplotlib inline"
      ]
    },
    {
      "cell_type": "markdown",
      "metadata": {},
      "source": [
        "Operators Overview {#ref_basic_operators_example}\r\n==================\r\n\r\nOverview of the usage of operators in DPF.\r\n\r\nOperators are primary method for interacting with and extracting\r\nresults. Within DPF-Core, these operators are directly exposed with the\r\n[Operators]{.title-ref} class as well as wrapped within several other\r\nconvenience classes.\r\n\r\nThis example demonstrates how to work directly with operators and\r\ncompares it to wrapped approach.\r\n\r\nFor a full listing of all available operators, please see\r\n`ref_dpf_operators_reference`{.interpreted-text role=\"ref\"}.\r\n"
      ]
    },
    {
      "cell_type": "code",
      "execution_count": null,
      "metadata": {
        "collapsed": false
      },
      "outputs": [],
      "source": [
        "from ansys.dpf import core as dpf\nfrom ansys.dpf.core import examples"
      ]
    },
    {
      "cell_type": "markdown",
      "metadata": {},
      "source": [
        "First, create a model object to establish a connection with an example\r\nresult file.\r\n"
      ]
    },
    {
      "cell_type": "code",
      "execution_count": null,
      "metadata": {
        "collapsed": false
      },
      "outputs": [],
      "source": [
        "model = dpf.Model(examples.static_rst)\nprint(model)"
      ]
    },
    {
      "cell_type": "markdown",
      "metadata": {},
      "source": [
        "Next, create a raw displacement operator `\"U\"`. Each operator contains\r\n`input` and `output` pins that can be connected to various sources, to\r\ninclude other operators. This allows operators to be \\\"chained\\\" to\r\nallow for highly efficient operations.\r\n\r\nHere, we print out the available inputs and outputs of the displacement\r\noperator.\r\n"
      ]
    },
    {
      "cell_type": "code",
      "execution_count": null,
      "metadata": {
        "collapsed": false
      },
      "outputs": [],
      "source": [
        "disp_op = dpf.Operator('U')\nprint(disp_op.inputs)\nprint(disp_op.outputs)"
      ]
    },
    {
      "cell_type": "markdown",
      "metadata": {},
      "source": [
        "Compute the Maximum Normalized Displacement\r\n===========================================\r\n\r\nHere, connect the input of the operator to the data sources contained\r\nwithin the `model` object and then the maximum of the norm of the\r\noperator to demonstrate how to chain various operators.\r\n"
      ]
    },
    {
      "cell_type": "code",
      "execution_count": null,
      "metadata": {
        "collapsed": false
      },
      "outputs": [],
      "source": [
        "# connect to the data sources of the model\ndisp_op.inputs.data_sources.connect(model.metadata.data_sources)\n\n# Create a field container norm operator and connect it to the\n# displacement operator to chain the operators.\nnorm_op = dpf.Operator('norm_fc')\nnorm_op.inputs.connect(disp_op.outputs)\n\n# create a field container min/max operator and connect it to the\n# output of the norm operator\nmm_op = dpf.Operator('min_max_fc')\nmm_op.inputs.connect(norm_op.outputs)\n\n# Finally, get the value of the maximum displacement\nfield_max = mm_op.outputs.field_max()\nprint(field_max)\nprint(field_max.data)"
      ]
    },
    {
      "cell_type": "markdown",
      "metadata": {},
      "source": [
        "Wrapped Operators\r\n=================\r\n\r\nThe `model.results` property contains all the wrapped operators\r\navailable for a given result. This is provided out of convenience as not\r\nall operators may be available for a given result and it is much easier\r\nto reference available operators by first running:\r\n"
      ]
    },
    {
      "cell_type": "code",
      "execution_count": null,
      "metadata": {
        "collapsed": false
      },
      "outputs": [],
      "source": [
        "print(model.results)"
      ]
    },
    {
      "cell_type": "markdown",
      "metadata": {},
      "source": [
        "Create the displacement operator directly from the `results` property\r\n"
      ]
    },
    {
      "cell_type": "code",
      "execution_count": null,
      "metadata": {
        "collapsed": false
      },
      "outputs": [],
      "source": [
        "disp_op = model.results.displacement()\n\n# Out of convenience, the operators module contains availabale operators\n# Those operators can be created in chain to create a workflow in one line\nfrom ansys.dpf.core import operators\nmm_op = operators.min_max.min_max_fc(operators.math.norm_fc(disp_op))\n\n# Finally, get the value of the maximum displacement.\nfield_max = mm_op.outputs.field_max()\nprint(field_max)\nprint(field_max.data)"
      ]
    },
    {
      "cell_type": "markdown",
      "metadata": {},
      "source": [
        "Plot the displacement\r\n"
      ]
    },
    {
      "cell_type": "code",
      "execution_count": null,
      "metadata": {
        "collapsed": false
      },
      "outputs": [],
      "source": [
        "print(model.metadata.meshed_region.plot(disp_op.outputs.fields_container()))"
      ]
    },
    {
      "cell_type": "markdown",
      "metadata": {},
      "source": [
        "Scripting operators syntax\r\n==========================\r\n\r\nDPF is also providing a scripting syntax where knowing the operator\r\n\\\"string name\\\" is not mandatory. Here is a similar script as above\r\nusing this syntax.\r\n"
      ]
    },
    {
      "cell_type": "markdown",
      "metadata": {},
      "source": [
        "Instead of using a model class instance, let\\'s directly use a\r\ndatasources object. The DataSources constructor input is a path.\r\n"
      ]
    },
    {
      "cell_type": "code",
      "execution_count": null,
      "metadata": {
        "collapsed": false
      },
      "outputs": [],
      "source": [
        "ds = dpf.DataSources(examples.static_rst)\nprint(examples.static_rst)"
      ]
    },
    {
      "cell_type": "markdown",
      "metadata": {},
      "source": [
        "Let\\'s instantiate the operators and connect them together.\r\n"
      ]
    },
    {
      "cell_type": "code",
      "execution_count": null,
      "metadata": {
        "collapsed": false
      },
      "outputs": [],
      "source": [
        "disp_op = dpf.operators.result.displacement()\ndisp_op.inputs.data_sources.connect(ds)\nnorm_op = dpf.operators.math.norm_fc()\nnorm_op.inputs.connect(disp_op.outputs)\nmm_op = dpf.operators.min_max.min_max_fc()\nmm_op.inputs.connect(norm_op.outputs)"
      ]
    },
    {
      "cell_type": "markdown",
      "metadata": {},
      "source": [
        "Let\\'s get the output and print the result data.\r\n"
      ]
    },
    {
      "cell_type": "code",
      "execution_count": null,
      "metadata": {
        "collapsed": false
      },
      "outputs": [],
      "source": [
        "field_max = mm_op.outputs.field_max()\nprint(field_max.data)"
      ]
    }
  ],
  "metadata": {
    "kernelspec": {
      "display_name": "Python 3",
      "language": "python",
      "name": "python3"
    },
    "language_info": {
      "codemirror_mode": {
        "name": "ipython",
        "version": 3
      },
      "file_extension": ".py",
      "mimetype": "text/x-python",
      "name": "python",
      "nbconvert_exporter": "python",
      "pygments_lexer": "ipython3",
      "version": "3.8.5"
    }
  },
  "nbformat": 4,
  "nbformat_minor": 0
}